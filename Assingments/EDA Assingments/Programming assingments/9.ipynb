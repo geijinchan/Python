{
 "cells": [
  {
   "cell_type": "markdown",
   "id": "bfaf99c0",
   "metadata": {},
   "source": [
    "## 1.\tWrite a Python program to check if the given number is a Disarium Number?"
   ]
  },
  {
   "cell_type": "code",
   "execution_count": 77,
   "id": "6ca1e04a",
   "metadata": {},
   "outputs": [
    {
     "name": "stdout",
     "output_type": "stream",
     "text": [
      "Enter a number: 15\n",
      "15 is not a Disarium Number\n"
     ]
    }
   ],
   "source": [
    "def is_disarium_number(number):\n",
    "    str_num = str(number)\n",
    "    length = len(str_num)\n",
    "    sum = 0\n",
    "    for i in range(length):\n",
    "        digit = int(str_num[i])\n",
    "        sum += digit ** (i + 1)\n",
    "    if sum == number:\n",
    "        return True\n",
    "    else:\n",
    "        return False\n",
    "\n",
    "\n",
    "number = int(input(\"Enter a number: \"))\n",
    "if is_disarium_number(number):\n",
    "    print(number, \"is a Disarium Number\")\n",
    "else:\n",
    "    print(number, \"is not a Disarium Number\")"
   ]
  },
  {
   "cell_type": "markdown",
   "id": "2bb9dc9d",
   "metadata": {},
   "source": [
    "## 2.\tWrite a Python program to print all disarium numbers between 1 to 100?"
   ]
  },
  {
   "cell_type": "code",
   "execution_count": 78,
   "id": "ab228832",
   "metadata": {},
   "outputs": [
    {
     "name": "stdout",
     "output_type": "stream",
     "text": [
      "1 2 3 4 5 6 7 8 9 89 "
     ]
    }
   ],
   "source": [
    "def is_disarium_number(number):\n",
    "    str_num = str(number)\n",
    "    length = len(str_num)\n",
    "    sum = 0\n",
    "    for i in range(length):\n",
    "        digit = int(str_num[i])\n",
    "        sum += digit ** (i + 1)\n",
    "    if sum == number:\n",
    "        return True\n",
    "    else:\n",
    "        return False\n",
    "\n",
    "for number in range(1, 101):\n",
    "    if is_disarium_number(number):\n",
    "        print(number, end=\" \")"
   ]
  },
  {
   "cell_type": "markdown",
   "id": "a0171676",
   "metadata": {},
   "source": [
    "## 3.\tWrite a Python program to check if the given number is Happy Number?"
   ]
  },
  {
   "cell_type": "code",
   "execution_count": 79,
   "id": "1b76e67b",
   "metadata": {},
   "outputs": [
    {
     "name": "stdout",
     "output_type": "stream",
     "text": [
      "Enter a number: 15\n",
      "15 is not a Happy Number\n"
     ]
    }
   ],
   "source": [
    "def is_happy_number(number):\n",
    "    visited = set()\n",
    "    while number != 1:\n",
    "        if number in visited:\n",
    "            return False\n",
    "        visited.add(number)\n",
    "        number = sum(int(digit) ** 2 for digit in str(number))\n",
    "    return True\n",
    "\n",
    "number = int(input(\"Enter a number: \"))\n",
    "\n",
    "if is_happy_number(number):\n",
    "    print(number, \"is a Happy Number\")\n",
    "else:\n",
    "    print(number, \"is not a Happy Number\")"
   ]
  },
  {
   "cell_type": "markdown",
   "id": "e039c060",
   "metadata": {},
   "source": [
    "## 4.\tWrite a Python program to print all happy numbers between 1 and 100?"
   ]
  },
  {
   "cell_type": "code",
   "execution_count": 80,
   "id": "8b2d1852",
   "metadata": {},
   "outputs": [
    {
     "name": "stdout",
     "output_type": "stream",
     "text": [
      "1 7 10 13 19 23 28 31 32 44 49 68 70 79 82 86 91 94 97 100 "
     ]
    }
   ],
   "source": [
    "def is_happy_number(number):\n",
    "    visited = set()\n",
    "    while number != 1:\n",
    "        if number in visited:\n",
    "            return False\n",
    "        visited.add(number)\n",
    "        number = sum(int(digit) ** 2 for digit in str(number))\n",
    "    return True\n",
    "\n",
    "for number in range(1, 101):\n",
    "    if is_happy_number(number):\n",
    "        print(number, end=\" \")"
   ]
  },
  {
   "cell_type": "markdown",
   "id": "41b0791e",
   "metadata": {},
   "source": [
    "## 5.\tWrite a Python program to determine whether the given number is a Harshad Number?"
   ]
  },
  {
   "cell_type": "code",
   "execution_count": 81,
   "id": "243e1c60",
   "metadata": {},
   "outputs": [
    {
     "name": "stdout",
     "output_type": "stream",
     "text": [
      "Enter a number: 10\n",
      "10 is a Harshad Number\n"
     ]
    }
   ],
   "source": [
    "def is_harshad_number(number):\n",
    "    digit_sum = sum(int(digit) for digit in str(number))\n",
    "    if number % digit_sum == 0:\n",
    "        return True\n",
    "    else:\n",
    "        return False\n",
    "\n",
    "number = int(input(\"Enter a number: \"))\n",
    "\n",
    "if is_harshad_number(number):\n",
    "    print(number, \"is a Harshad Number\")\n",
    "else:\n",
    "    print(number, \"is not a Harshad Number\")"
   ]
  },
  {
   "cell_type": "markdown",
   "id": "9c97ef0c",
   "metadata": {},
   "source": [
    "## 6.\tWrite a Python program to print all pronic numbers between 1 and 100?"
   ]
  },
  {
   "cell_type": "code",
   "execution_count": 82,
   "id": "c34b4798",
   "metadata": {},
   "outputs": [
    {
     "name": "stdout",
     "output_type": "stream",
     "text": [
      "2 6 12 20 30 42 56 72 90 "
     ]
    }
   ],
   "source": [
    "def is_pronic_number(number):\n",
    "    for i in range(1, number):\n",
    "        if i * (i + 1) == number:\n",
    "            return True\n",
    "    return False\n",
    "\n",
    "for number in range(1, 101):\n",
    "    if is_pronic_number(number):\n",
    "        print(number, end=\" \")"
   ]
  },
  {
   "cell_type": "code",
   "execution_count": null,
   "id": "15390305",
   "metadata": {},
   "outputs": [],
   "source": []
  },
  {
   "cell_type": "code",
   "execution_count": null,
   "id": "d32b7b87",
   "metadata": {},
   "outputs": [],
   "source": []
  }
 ],
 "metadata": {
  "kernelspec": {
   "display_name": "Python 3 (ipykernel)",
   "language": "python",
   "name": "python3"
  },
  "language_info": {
   "codemirror_mode": {
    "name": "ipython",
    "version": 3
   },
   "file_extension": ".py",
   "mimetype": "text/x-python",
   "name": "python",
   "nbconvert_exporter": "python",
   "pygments_lexer": "ipython3",
   "version": "3.9.7"
  }
 },
 "nbformat": 4,
 "nbformat_minor": 5
}
