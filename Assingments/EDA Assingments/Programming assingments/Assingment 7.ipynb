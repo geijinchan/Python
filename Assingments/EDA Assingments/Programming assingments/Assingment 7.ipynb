{
 "cells": [
  {
   "cell_type": "markdown",
   "id": "9ce0c0a3",
   "metadata": {},
   "source": [
    "## 1.\tWrite a Python Program to find sum of array?"
   ]
  },
  {
   "cell_type": "code",
   "execution_count": 33,
   "id": "043dbe66",
   "metadata": {},
   "outputs": [
    {
     "name": "stdout",
     "output_type": "stream",
     "text": [
      "Sum: 15\n"
     ]
    }
   ],
   "source": [
    "def array_sum(arr):\n",
    "    sum = 0\n",
    "    for num in arr:\n",
    "        sum += num\n",
    "    return sum\n",
    "\n",
    "\n",
    "numbers = [1, 2, 3, 4, 5]\n",
    "result = array_sum(numbers)\n",
    "print(\"Sum:\", result)"
   ]
  },
  {
   "cell_type": "markdown",
   "id": "e0a66c70",
   "metadata": {},
   "source": [
    "## 2.\tWrite a Python Program to find largest element in an array?"
   ]
  },
  {
   "cell_type": "code",
   "execution_count": 34,
   "id": "846a9ab9",
   "metadata": {},
   "outputs": [
    {
     "name": "stdout",
     "output_type": "stream",
     "text": [
      "Largest element: 11\n"
     ]
    }
   ],
   "source": [
    "def find_largest_element(arr):\n",
    "    if len(arr) == 0:\n",
    "        return None\n",
    "    largest = arr[0]\n",
    "    for num in arr:\n",
    "        if num > largest:\n",
    "            largest = num\n",
    "    return largest\n",
    "numbers = [5, 9, 2, 11, 3, 8]\n",
    "largest_num = find_largest_element(numbers)\n",
    "print(\"Largest element:\", largest_num)"
   ]
  },
  {
   "cell_type": "markdown",
   "id": "51cd1cfe",
   "metadata": {},
   "source": [
    "## 3.\tWrite a Python Program for array rotation?"
   ]
  },
  {
   "cell_type": "code",
   "execution_count": 35,
   "id": "a4a45d01",
   "metadata": {},
   "outputs": [
    {
     "name": "stdout",
     "output_type": "stream",
     "text": [
      "Rotated Array: [3, 4, 5, 1, 2]\n"
     ]
    }
   ],
   "source": [
    "def rotate_array(arr, k):\n",
    "    n = len(arr)\n",
    "    k = k % n  \n",
    "    rotated_arr = arr[k:] + arr[:k]\n",
    "    return rotated_arr\n",
    "\n",
    "array = [1, 2, 3, 4, 5]\n",
    "rotation_count = 2\n",
    "\n",
    "rotated_array = rotate_array(array, rotation_count)\n",
    "print(\"Rotated Array:\", rotated_array)"
   ]
  },
  {
   "cell_type": "markdown",
   "id": "266aaeb4",
   "metadata": {},
   "source": [
    "## 4.\tWrite a Python Program to Split the array and add the first part to the end?"
   ]
  },
  {
   "cell_type": "code",
   "execution_count": 36,
   "id": "0e105799",
   "metadata": {},
   "outputs": [
    {
     "name": "stdout",
     "output_type": "stream",
     "text": [
      "Array after splitting and adding: [3, 4, 5, 1, 2]\n"
     ]
    }
   ],
   "source": [
    "def split_and_add(arr, k):\n",
    "    n = len(arr)\n",
    "    k = k % n  \n",
    "\n",
    "    first_part = arr[:k]\n",
    "    second_part = arr[k:]\n",
    "    result = second_part + first_part\n",
    "\n",
    "    return result\n",
    "\n",
    "\n",
    "numbers = [1, 2, 3, 4, 5]\n",
    "k = 2\n",
    "result = split_and_add(numbers, k)\n",
    "print(\"Array after splitting and adding:\", result)"
   ]
  },
  {
   "cell_type": "markdown",
   "id": "0c8dac3c",
   "metadata": {},
   "source": [
    "## 5.\tWrite a Python Program to check if given array is Monotonic?"
   ]
  },
  {
   "cell_type": "code",
   "execution_count": 40,
   "id": "29b03d13",
   "metadata": {},
   "outputs": [
    {
     "name": "stdout",
     "output_type": "stream",
     "text": [
      "Array 1 is monotonic:  True\n",
      "Array 2 is monotonic: True\n",
      "Array 3 is monotonic  False\n"
     ]
    }
   ],
   "source": [
    "def is_monotonic(arr):\n",
    "    increasing = decreasing = True\n",
    "    for i in range(1, len(arr)):\n",
    "        if arr[i] < arr[i-1]:\n",
    "            increasing = False\n",
    "        if arr[i] > arr[i-1]:\n",
    "            decreasing = False\n",
    "    return increasing or decreasing\n",
    "\n",
    "\n",
    "array1 = [1, 2, 3, 4, 5]  \n",
    "array2 = [5, 4, 3, 2, 1] \n",
    "array3 = [1, 3, 2, 4, 5]  \n",
    "print(\"Array 1 is monotonic: \", is_monotonic(array1))\n",
    "print(\"Array 2 is monotonic:\", is_monotonic(array2))\n",
    "print(\"Array 3 is monotonic \", is_monotonic(array3))"
   ]
  },
  {
   "cell_type": "code",
   "execution_count": null,
   "id": "d9004e06",
   "metadata": {},
   "outputs": [],
   "source": []
  }
 ],
 "metadata": {
  "kernelspec": {
   "display_name": "Python 3 (ipykernel)",
   "language": "python",
   "name": "python3"
  },
  "language_info": {
   "codemirror_mode": {
    "name": "ipython",
    "version": 3
   },
   "file_extension": ".py",
   "mimetype": "text/x-python",
   "name": "python",
   "nbconvert_exporter": "python",
   "pygments_lexer": "ipython3",
   "version": "3.9.7"
  }
 },
 "nbformat": 4,
 "nbformat_minor": 5
}
