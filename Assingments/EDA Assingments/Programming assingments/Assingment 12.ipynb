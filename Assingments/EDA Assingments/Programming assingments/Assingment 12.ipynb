{
 "cells": [
  {
   "cell_type": "markdown",
   "id": "2bd2dafa",
   "metadata": {},
   "source": [
    "## 1.\tWrite a Python program to Extract Unique values dictionary values?"
   ]
  },
  {
   "cell_type": "code",
   "execution_count": 80,
   "id": "3791eaa8",
   "metadata": {},
   "outputs": [
    {
     "name": "stdout",
     "output_type": "stream",
     "text": [
      "Unique values: [1, 2, 3]\n"
     ]
    }
   ],
   "source": [
    "def extract_unique_values(dictionary):\n",
    "    unique_values = set()\n",
    "    for value in dictionary.values():\n",
    "        if value not in unique_values:\n",
    "            unique_values.add(value)\n",
    "    return list(unique_values)\n",
    "\n",
    "dictionary = {'a': 1, 'b': 2, 'c': 1, 'd': 3, 'e': 2}\n",
    "unique_values = extract_unique_values(dictionary)\n",
    "print(\"Unique values:\", unique_values)"
   ]
  },
  {
   "cell_type": "markdown",
   "id": "3595c61e",
   "metadata": {},
   "source": [
    "## 2.\tWrite a Python program to find the sum of all items in a dictionary?"
   ]
  },
  {
   "cell_type": "code",
   "execution_count": 81,
   "id": "5e69916a",
   "metadata": {},
   "outputs": [
    {
     "name": "stdout",
     "output_type": "stream",
     "text": [
      "Sum of dictionary values: 100\n"
     ]
    }
   ],
   "source": [
    "def sum_dictionary_values(dictionary):\n",
    "    total_sum = 0\n",
    "    for value in dictionary.values():\n",
    "        total_sum += value\n",
    "    return total_sum\n",
    "\n",
    "dictionary = {'a': 10, 'b': 20, 'c': 30, 'd': 40}\n",
    "sum_of_values = sum_dictionary_values(dictionary)\n",
    "print(\"Sum of dictionary values:\", sum_of_values)"
   ]
  },
  {
   "cell_type": "markdown",
   "id": "a10cc710",
   "metadata": {},
   "source": [
    "## 3.\tWrite a Python program to Merging two Dictionaries?"
   ]
  },
  {
   "cell_type": "code",
   "execution_count": 82,
   "id": "ae1fef49",
   "metadata": {},
   "outputs": [
    {
     "name": "stdout",
     "output_type": "stream",
     "text": [
      "Merged dictionary: {'a': 1, 'b': 2, 'c': 3, 'd': 4}\n"
     ]
    }
   ],
   "source": [
    "def merge_dictionaries(dict1, dict2):\n",
    "    merged_dict = dict1.copy()\n",
    "    merged_dict.update(dict2)\n",
    "    return merged_dict\n",
    "\n",
    "\n",
    "\n",
    "dict1 = {'a': 1, 'b': 2}\n",
    "dict2 = {'c': 3, 'd': 4}\n",
    "merged_dictionary = merge_dictionaries(dict1, dict2)\n",
    "print(\"Merged dictionary:\", merged_dictionary)"
   ]
  },
  {
   "cell_type": "markdown",
   "id": "826e073c",
   "metadata": {},
   "source": [
    "## 4.\tWrite a Python program to convert key-values list to flat dictionary?"
   ]
  },
  {
   "cell_type": "code",
   "execution_count": 83,
   "id": "9edb2e65",
   "metadata": {},
   "outputs": [
    {
     "name": "stdout",
     "output_type": "stream",
     "text": [
      "Flat dictionary: {'a': 1, 'b': 2, 'c': 3, 'd': 4}\n"
     ]
    }
   ],
   "source": [
    "def convert_to_flat_dictionary(kv_list):\n",
    "    flat_dict = {}\n",
    "    for key, value in kv_list:\n",
    "        flat_dict[key] = value\n",
    "    return flat_dict\n",
    "\n",
    "key_value_list = [('a', 1), ('b', 2), ('c', 3), ('d', 4)]\n",
    "flat_dictionary = convert_to_flat_dictionary(key_value_list)\n",
    "print(\"Flat dictionary:\", flat_dictionary)"
   ]
  },
  {
   "cell_type": "markdown",
   "id": "394129d0",
   "metadata": {},
   "source": [
    "## 5.\tWrite a Python program to insertion at the beginning in OrderedDict?"
   ]
  },
  {
   "cell_type": "code",
   "execution_count": 84,
   "id": "11602eba",
   "metadata": {},
   "outputs": [
    {
     "name": "stdout",
     "output_type": "stream",
     "text": [
      "Updated OrderedDict: OrderedDict([('a1', 0), ('a', 1), ('b', 2), ('c', 3)])\n"
     ]
    }
   ],
   "source": [
    "from collections import OrderedDict\n",
    "\n",
    "def insert_at_beginning(od, key, value):\n",
    "    new_od = OrderedDict([(key, value)])\n",
    "    new_od.update(od)\n",
    "    return new_od\n",
    "\n",
    "\n",
    "ordered_dict = OrderedDict([('a', 1), ('b', 2), ('c', 3)])\n",
    "key = 'a1'\n",
    "value = 0\n",
    "updated_dict = insert_at_beginning(ordered_dict, key, value)\n",
    "print(\"Updated OrderedDict:\", updated_dict)"
   ]
  },
  {
   "cell_type": "markdown",
   "id": "a1e787c0",
   "metadata": {},
   "source": [
    "## 6.\tWrite a Python program to check order of character in string using OrderedDict()?"
   ]
  },
  {
   "cell_type": "code",
   "execution_count": 85,
   "id": "ff750863",
   "metadata": {},
   "outputs": [
    {
     "name": "stdout",
     "output_type": "stream",
     "text": [
      "Pattern found in the string.\n"
     ]
    }
   ],
   "source": [
    "from collections import OrderedDict\n",
    "\n",
    "def check_order_of_characters(string, pattern):\n",
    "    od = OrderedDict.fromkeys(string)\n",
    "    string_index = 0\n",
    "    pattern_length = 0\n",
    "    while string_index < len(string) and pattern_length < len(pattern):\n",
    "        if string[string_index] == pattern[pattern_length]:\n",
    "            pattern_length += 1\n",
    "        string_index += 1\n",
    "    if pattern_length == len(pattern):\n",
    "        return True\n",
    "    else:\n",
    "        return False\n",
    "\n",
    "\n",
    "input_string = \"Hello World\"\n",
    "input_pattern = \"Wo\"\n",
    "result = check_order_of_characters(input_string, input_pattern)\n",
    "if result:\n",
    "    print(\"Pattern found in the string.\")\n",
    "else:\n",
    "    print(\"Pattern not found in the string.\")"
   ]
  },
  {
   "cell_type": "markdown",
   "id": "7c3ce4b8",
   "metadata": {},
   "source": [
    "## 7.\tWrite a Python program to sort Python Dictionaries by Key or Value?"
   ]
  },
  {
   "cell_type": "code",
   "execution_count": 86,
   "id": "ef61a248",
   "metadata": {},
   "outputs": [
    {
     "name": "stdout",
     "output_type": "stream",
     "text": [
      "Sorted by key: {'a': 1, 'b': 2, 'c': 3}\n",
      "Sorted by value: {'a': 1, 'b': 2, 'c': 3}\n"
     ]
    }
   ],
   "source": [
    "def sort_dictionary(dictionary, by_key=True):\n",
    "    if by_key:\n",
    "        sorted_dict = dict(sorted(dictionary.items()))\n",
    "    else:\n",
    "        sorted_dict = dict(sorted(dictionary.items(), key=lambda item: item[1]))\n",
    "    return sorted_dict\n",
    "\n",
    "\n",
    "input_dict = {'c': 3, 'a': 1, 'b': 2}\n",
    "sorted_by_key = sort_dictionary(input_dict, by_key=True)\n",
    "sorted_by_value = sort_dictionary(input_dict, by_key=False)\n",
    "print(\"Sorted by key:\", sorted_by_key)\n",
    "print(\"Sorted by value:\", sorted_by_value)"
   ]
  },
  {
   "cell_type": "code",
   "execution_count": null,
   "id": "90dbf82c",
   "metadata": {},
   "outputs": [],
   "source": []
  }
 ],
 "metadata": {
  "kernelspec": {
   "display_name": "Python 3 (ipykernel)",
   "language": "python",
   "name": "python3"
  },
  "language_info": {
   "codemirror_mode": {
    "name": "ipython",
    "version": 3
   },
   "file_extension": ".py",
   "mimetype": "text/x-python",
   "name": "python",
   "nbconvert_exporter": "python",
   "pygments_lexer": "ipython3",
   "version": "3.9.7"
  }
 },
 "nbformat": 4,
 "nbformat_minor": 5
}
