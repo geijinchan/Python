{
 "cells": [
  {
   "cell_type": "markdown",
   "id": "29ef0b50",
   "metadata": {},
   "source": [
    "## 1.\tWrite a Python program to convert kilometers to miles?"
   ]
  },
  {
   "cell_type": "code",
   "execution_count": 6,
   "id": "fbdd9b06",
   "metadata": {},
   "outputs": [],
   "source": [
    "def kilometers_to_miles(kilometers):\n",
    "    miles = kilometers * 0.621371\n",
    "    return miles"
   ]
  },
  {
   "cell_type": "code",
   "execution_count": 7,
   "id": "d6b1be95",
   "metadata": {},
   "outputs": [
    {
     "name": "stdout",
     "output_type": "stream",
     "text": [
      "Enter the distance in kilometers: 25\n",
      "25.0 kilometers is equal to 15.534275000000001 miles.\n"
     ]
    }
   ],
   "source": [
    "kilometers = float(input(\"Enter the distance in kilometers: \"))\n",
    "miles = kilometers_to_miles(kilometers)\n",
    "print(f\"{kilometers} kilometers is equal to {miles} miles.\")"
   ]
  },
  {
   "cell_type": "markdown",
   "id": "e66f8da3",
   "metadata": {},
   "source": [
    "## 2.\tWrite a Python program to convert Celsius to Fahrenheit?"
   ]
  },
  {
   "cell_type": "code",
   "execution_count": 10,
   "id": "80d9ed40",
   "metadata": {},
   "outputs": [],
   "source": [
    "def celsius_to_fahrenheit(celsius):\n",
    "    fahrenheit = (celsius * 9/5) + 32\n",
    "    return fahrenheit"
   ]
  },
  {
   "cell_type": "code",
   "execution_count": 11,
   "id": "761d509f",
   "metadata": {},
   "outputs": [
    {
     "name": "stdout",
     "output_type": "stream",
     "text": [
      "Enter the temperature in Celsius: 100\n",
      "100.0 degrees Celsius is equal to 212.0 degrees Fahrenheit.\n"
     ]
    }
   ],
   "source": [
    "celsius = float(input(\"Enter the temperature in Celsius: \"))\n",
    "fahrenheit = celsius_to_fahrenheit(celsius)\n",
    "print(f\"{celsius} degrees Celsius is equal to {fahrenheit} degrees Fahrenheit.\")"
   ]
  },
  {
   "cell_type": "markdown",
   "id": "65d5568f",
   "metadata": {},
   "source": [
    "## 3.\tWrite a Python program to display calendar?"
   ]
  },
  {
   "cell_type": "code",
   "execution_count": 9,
   "id": "779ad38a",
   "metadata": {},
   "outputs": [
    {
     "name": "stdout",
     "output_type": "stream",
     "text": [
      "Enter the year: 2023\n",
      "Enter the month: 5\n",
      "      May 2023\n",
      "Mo Tu We Th Fr Sa Su\n",
      " 1  2  3  4  5  6  7\n",
      " 8  9 10 11 12 13 14\n",
      "15 16 17 18 19 20 21\n",
      "22 23 24 25 26 27 28\n",
      "29 30 31\n",
      "\n"
     ]
    }
   ],
   "source": [
    "import calendar\n",
    "\n",
    "year = int(input(\"Enter the year: \"))\n",
    "month = int(input(\"Enter the month: \"))\n",
    "print(calendar.month(year, month))"
   ]
  },
  {
   "cell_type": "markdown",
   "id": "5c1bff92",
   "metadata": {},
   "source": [
    "## 4.\tWrite a Python program to solve quadratic equation?"
   ]
  },
  {
   "cell_type": "code",
   "execution_count": 15,
   "id": "9d2a95e6",
   "metadata": {},
   "outputs": [
    {
     "name": "stdout",
     "output_type": "stream",
     "text": [
      "Enter the coefficient of x^2: 2\n",
      "Enter the coefficient of x: 4\n",
      "Enter the constant term: 5\n",
      "No real solutions exist.\n"
     ]
    }
   ],
   "source": [
    "import math\n",
    "\n",
    "def solve_quadratic(a, b, c):\n",
    "    discriminant = b**2 - 4*a*c\n",
    "    if discriminant >= 0:\n",
    "        x1 = (-b + math.sqrt(discriminant)) / (2*a)\n",
    "        x2 = (-b - math.sqrt(discriminant)) / (2*a)\n",
    "        return x1, x2\n",
    "    else:\n",
    "        return None\n",
    "\n",
    "a = float(input(\"Enter the coefficient of x^2: \"))\n",
    "b = float(input(\"Enter the coefficient of x: \"))\n",
    "c = float(input(\"Enter the constant term: \"))\n",
    "solutions = solve_quadratic(a, b, c)\n",
    "if solutions:\n",
    "    print(\"The solutions are:\", solutions[0], \"and\", solutions[1])\n",
    "else:\n",
    "    print(\"No real solutions exist.\")"
   ]
  },
  {
   "cell_type": "markdown",
   "id": "22e13d82",
   "metadata": {},
   "source": [
    "## 5.\tWrite a Python program to swap two variables without temp variable?"
   ]
  },
  {
   "cell_type": "code",
   "execution_count": 14,
   "id": "b42139eb",
   "metadata": {},
   "outputs": [
    {
     "name": "stdout",
     "output_type": "stream",
     "text": [
      "Enter the value of variable a: 1\n",
      "Enter the value of variable b: 2\n",
      "a = 2\n",
      "b = 1\n"
     ]
    }
   ],
   "source": [
    "def swap_variables(a, b):\n",
    "    a = a + b\n",
    "    b = a - b\n",
    "    a = a - b\n",
    "    return a, b\n",
    "\n",
    "a = int(input(\"Enter the value of variable a: \"))\n",
    "b = int(input(\"Enter the value of variable b: \"))\n",
    "a, b = swap_variables(a, b)\n",
    "print(\"a =\", a)\n",
    "print(\"b =\", b)"
   ]
  },
  {
   "cell_type": "code",
   "execution_count": null,
   "id": "d5bc4ca5",
   "metadata": {},
   "outputs": [],
   "source": []
  }
 ],
 "metadata": {
  "kernelspec": {
   "display_name": "Python 3 (ipykernel)",
   "language": "python",
   "name": "python3"
  },
  "language_info": {
   "codemirror_mode": {
    "name": "ipython",
    "version": 3
   },
   "file_extension": ".py",
   "mimetype": "text/x-python",
   "name": "python",
   "nbconvert_exporter": "python",
   "pygments_lexer": "ipython3",
   "version": "3.9.7"
  }
 },
 "nbformat": 4,
 "nbformat_minor": 5
}
