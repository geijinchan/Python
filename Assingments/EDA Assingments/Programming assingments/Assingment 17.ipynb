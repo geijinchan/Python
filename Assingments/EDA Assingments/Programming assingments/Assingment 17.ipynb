{
 "cells": [
  {
   "cell_type": "markdown",
   "id": "bbbf3dcf",
   "metadata": {},
   "source": [
    "## Question1. \n",
    "Create a function that takes three arguments a, b, c and returns the sum of the numbers that are evenly divided by c from the range a, b inclusive.\n",
    "Examples\n",
    "- evenly_divisible(1, 10, 20) ➞ 0\n",
    "    #No number between 1 and 10 can be evenly divided by 20.\n",
    "\n",
    "- evenly_divisible(1, 10, 2) ➞ 30\n",
    "    #2 + 4 + 6 + 8 + 10 = 30\n",
    "\n",
    "- evenly_divisible(1, 10, 3) ➞ 18\n",
    "    #3 + 6 + 9 = 18"
   ]
  },
  {
   "cell_type": "code",
   "execution_count": 53,
   "id": "b0c280cf",
   "metadata": {},
   "outputs": [],
   "source": [
    "def evenly_divisible(a, b, c):\n",
    "    return sum(num for num in range(a, b+1) if num % c == 0)"
   ]
  },
  {
   "cell_type": "code",
   "execution_count": 54,
   "id": "75e7c46d",
   "metadata": {},
   "outputs": [
    {
     "name": "stdout",
     "output_type": "stream",
     "text": [
      "0\n",
      "30\n",
      "18\n"
     ]
    }
   ],
   "source": [
    "print(evenly_divisible(1, 10, 20))\n",
    "print(evenly_divisible(1, 10, 2))   \n",
    "print(evenly_divisible(1, 10, 3))   "
   ]
  },
  {
   "cell_type": "markdown",
   "id": "3eaf6f46",
   "metadata": {},
   "source": [
    "## Question2. \n",
    "Create a function that returns True if a given inequality expression is correct and False otherwise.\n",
    "Examples\n",
    "- correct_signs(\"3 < 7 < 11\") ➞ True\n",
    "\n",
    "- correct_signs(\"13 > 44 > 33 > 1\") ➞ False\n",
    "\n",
    "- correct_signs(\"1 < 2 < 6 < 9 > 3\") ➞ True\n"
   ]
  },
  {
   "cell_type": "code",
   "execution_count": 55,
   "id": "82b4bead",
   "metadata": {},
   "outputs": [],
   "source": [
    "def correct_signs(expression):\n",
    "    return eval(expression)"
   ]
  },
  {
   "cell_type": "code",
   "execution_count": 56,
   "id": "bc12e083",
   "metadata": {},
   "outputs": [
    {
     "name": "stdout",
     "output_type": "stream",
     "text": [
      "True\n",
      "False\n",
      "True\n"
     ]
    }
   ],
   "source": [
    "print(correct_signs(\"3 < 7 < 11\"))         \n",
    "print(correct_signs(\"13 > 44 > 33 > 1\"))    \n",
    "print(correct_signs(\"1 < 2 < 6 < 9 > 3\"))  "
   ]
  },
  {
   "cell_type": "markdown",
   "id": "0397db57",
   "metadata": {},
   "source": [
    "## Question3. \n",
    "Create a function that replaces all the vowels in a string with a specified character.\n",
    "Examples\n",
    "- replace_vowels(\"the aardvark\", \"#\") ➞ \"th# ##rdv#rk\"\n",
    "\n",
    "- replace_vowels(\"minnie mouse\", \"?\") ➞ \"m?nn?? m??s?\"\n",
    "\n",
    "- replace_vowels(\"shakespeare\", \"*\") ➞ \"sh*k*sp**r*\"\n"
   ]
  },
  {
   "cell_type": "code",
   "execution_count": 57,
   "id": "8743f4f4",
   "metadata": {},
   "outputs": [],
   "source": [
    "def replace_vowels(string, char):\n",
    "    vowels = ['a', 'e', 'i', 'o', 'u', 'A', 'E', 'I', 'O', 'U']\n",
    "    for vowel in vowels:\n",
    "        string = string.replace(vowel, char)\n",
    "    return string"
   ]
  },
  {
   "cell_type": "code",
   "execution_count": 58,
   "id": "42888997",
   "metadata": {},
   "outputs": [
    {
     "name": "stdout",
     "output_type": "stream",
     "text": [
      "th# ##rdv#rk\n",
      "m?nn?? m??s?\n",
      "sh*k*sp**r*\n"
     ]
    }
   ],
   "source": [
    "print(replace_vowels(\"the aardvark\", \"#\"))      \n",
    "print(replace_vowels(\"minnie mouse\", \"?\"))      \n",
    "print(replace_vowels(\"shakespeare\", \"*\"))       "
   ]
  },
  {
   "cell_type": "markdown",
   "id": "e2b493a4",
   "metadata": {},
   "source": [
    "## Question4. \n",
    "Write a function that calculates the factorial of a number recursively.\n",
    "Examples\n",
    "- factorial(5) ➞ 120\n",
    "\n",
    "- factorial(3) ➞ 6\n",
    "\n",
    "- factorial(1) ➞ 1\n",
    "\n",
    "- factorial(0) ➞ 1\n",
    "\n"
   ]
  },
  {
   "cell_type": "code",
   "execution_count": 59,
   "id": "be0af891",
   "metadata": {},
   "outputs": [],
   "source": [
    "def factorial(n):\n",
    "    if n == 0 or n == 1:\n",
    "        return 1\n",
    "    else:\n",
    "        return n * factorial(n - 1)"
   ]
  },
  {
   "cell_type": "code",
   "execution_count": 60,
   "id": "a0018e4b",
   "metadata": {},
   "outputs": [
    {
     "name": "stdout",
     "output_type": "stream",
     "text": [
      "2\n",
      "6\n",
      "24\n",
      "120\n"
     ]
    }
   ],
   "source": [
    "print(factorial(2))  \n",
    "print(factorial(3))\n",
    "print(factorial(4))  \n",
    "print(factorial(5))   "
   ]
  },
  {
   "cell_type": "markdown",
   "id": "dee42a3b",
   "metadata": {},
   "source": [
    "## Question 5\n",
    "Hamming distance is the number of characters that differ between two strings.\n",
    "To illustrate:\n",
    "String1: \"abcbba\"\n",
    "String2: \"abcbda\"\n",
    "\n",
    "Hamming Distance: 1 - \"b\" vs. \"d\" is the only difference.\n",
    "Create a function that computes the hamming distance between two strings.\n",
    "Examples\n",
    "- hamming_distance(\"abcde\", \"bcdef\") ➞ 5\n",
    "\n",
    "- hamming_distance(\"abcde\", \"abcde\") ➞ 0\n",
    "\n",
    "- hamming_distance(\"strong\", \"strung\") ➞ 1\n",
    "\n"
   ]
  },
  {
   "cell_type": "code",
   "execution_count": 61,
   "id": "99a2347b",
   "metadata": {},
   "outputs": [],
   "source": [
    "def hamming_distance(string1, string2):\n",
    "    if len(string1) != len(string2):\n",
    "        return \"Error: Strings must have equal length\"\n",
    "    else:\n",
    "        distance = 0\n",
    "        for char1, char2 in zip(string1, string2):\n",
    "            if char1 != char2:\n",
    "                distance += 1\n",
    "        return distance"
   ]
  },
  {
   "cell_type": "code",
   "execution_count": 62,
   "id": "671da22e",
   "metadata": {},
   "outputs": [
    {
     "name": "stdout",
     "output_type": "stream",
     "text": [
      "5\n",
      "0\n",
      "1\n"
     ]
    }
   ],
   "source": [
    "print(hamming_distance(\"abcde\", \"bcdef\"))     \n",
    "print(hamming_distance(\"abcde\", \"abcde\"))     \n",
    "print(hamming_distance(\"strong\", \"strung\"))   "
   ]
  },
  {
   "cell_type": "code",
   "execution_count": null,
   "id": "47ae02d9",
   "metadata": {},
   "outputs": [],
   "source": []
  }
 ],
 "metadata": {
  "kernelspec": {
   "display_name": "Python 3 (ipykernel)",
   "language": "python",
   "name": "python3"
  },
  "language_info": {
   "codemirror_mode": {
    "name": "ipython",
    "version": 3
   },
   "file_extension": ".py",
   "mimetype": "text/x-python",
   "name": "python",
   "nbconvert_exporter": "python",
   "pygments_lexer": "ipython3",
   "version": "3.9.7"
  }
 },
 "nbformat": 4,
 "nbformat_minor": 5
}
