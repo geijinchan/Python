{
 "cells": [
  {
   "cell_type": "markdown",
   "id": "8a1a8f12",
   "metadata": {},
   "source": [
    "## Question1\n",
    "Create a function that takes a list of strings and integers, and filters out the list so that it returns a list of integers only."
   ]
  },
  {
   "cell_type": "code",
   "execution_count": 11,
   "id": "685fadf3",
   "metadata": {},
   "outputs": [
    {
     "name": "stdout",
     "output_type": "stream",
     "text": [
      "[1, 2, 3, 4]\n",
      "[0, 1729]\n",
      "[]\n"
     ]
    }
   ],
   "source": [
    "def filter_list(lst):\n",
    "    return [x for x in lst if isinstance(x, int)]\n",
    "\n",
    "print(filter_list([1, 2, 3, \"a\", \"b\", 4]))  # [1, 2, 3, 4]\n",
    "print(filter_list([\"A\", 0, \"Edabit\", 1729, \"Python\", \"1729\"]))  # [0, 1729]\n",
    "print(filter_list([\"Nothing\", \"here\"])) \n"
   ]
  },
  {
   "cell_type": "markdown",
   "id": "1e6b7b71",
   "metadata": {},
   "source": [
    "## Question2\n",
    "Given a list of numbers, create a function which returns the list but with each element's index in the list added to itself. This means you add 0 to the number at index 0, add 1 to the number at index 1, etc..."
   ]
  },
  {
   "cell_type": "code",
   "execution_count": 12,
   "id": "cbe5a38c",
   "metadata": {},
   "outputs": [
    {
     "name": "stdout",
     "output_type": "stream",
     "text": [
      "[0, 1, 2, 3, 4]\n",
      "[1, 3, 5, 7, 9]\n",
      "[5, 5, 5, 5, 5]\n"
     ]
    }
   ],
   "source": [
    "def add_indexes(lst):\n",
    "    return [num + index for index, num in enumerate(lst)]\n",
    "\n",
    "print(add_indexes([0, 0, 0, 0, 0]))  # [0, 1, 2, 3, 4]\n",
    "print(add_indexes([1, 2, 3, 4, 5]))  # [1, 3, 5, 7, 9]\n",
    "print(add_indexes([5, 4, 3, 2, 1]))  # [5, 5, 5, 5, 5]\n"
   ]
  },
  {
   "cell_type": "markdown",
   "id": "4f6deb62",
   "metadata": {},
   "source": [
    "## Question3\n",
    "Create a function that takes the height and radius of a cone as arguments and returns the volume of the cone rounded to the nearest hundredth. See the resources tab for the formula"
   ]
  },
  {
   "cell_type": "code",
   "execution_count": 13,
   "id": "67ae4589",
   "metadata": {},
   "outputs": [
    {
     "name": "stdout",
     "output_type": "stream",
     "text": [
      "12.57\n",
      "565.49\n",
      "0.0\n"
     ]
    }
   ],
   "source": [
    "import math\n",
    "\n",
    "def cone_volume(h, r):\n",
    "    volume = (1/3) * math.pi * r**2 * h\n",
    "    \n",
    "    return round(volume, 2)\n",
    "print(cone_volume(3, 2))  \n",
    "print(cone_volume(15, 6))  \n",
    "print(cone_volume(18, 0))  \n"
   ]
  },
  {
   "cell_type": "markdown",
   "id": "1e0f0356",
   "metadata": {},
   "source": [
    "## Question4\n",
    "This Triangular Number Sequence is generated from a pattern of dots that form a triangle. The first 5 numbers of the sequence, or dots, are: \n",
    "1, 3, 6, 10, 15\n",
    "This means that the first triangle has just one dot, the second one has three dots, the third one has 6 dots and so on.\n",
    "Write a function that gives the number of dots with its corresponding triangle number of the sequence."
   ]
  },
  {
   "cell_type": "code",
   "execution_count": 14,
   "id": "f8aa80ba",
   "metadata": {},
   "outputs": [
    {
     "name": "stdout",
     "output_type": "stream",
     "text": [
      "1\n",
      "3\n",
      "6\n",
      "10\n",
      "15\n"
     ]
    }
   ],
   "source": [
    "def triangular_sequence(position):\n",
    "    return position * (position + 1) // 2\n",
    "\n",
    "print(triangular_sequence(1))  \n",
    "print(triangular_sequence(2))  \n",
    "print(triangular_sequence(3))  \n",
    "print(triangular_sequence(4))  \n",
    "print(triangular_sequence(5))  \n"
   ]
  },
  {
   "cell_type": "markdown",
   "id": "d3083c8a",
   "metadata": {},
   "source": [
    "## Question5\n",
    "Create a function that takes a list of numbers between 1 and 10 (excluding one number) and returns the missing number."
   ]
  },
  {
   "cell_type": "code",
   "execution_count": 15,
   "id": "95d3aebb",
   "metadata": {},
   "outputs": [
    {
     "name": "stdout",
     "output_type": "stream",
     "text": [
      "5\n",
      "10\n",
      "7\n"
     ]
    }
   ],
   "source": [
    "def missing_num(lst):\n",
    "    for num in range(1, 11):\n",
    "        if num not in lst:\n",
    "            return num\n",
    "print(missing_num([1, 2, 3, 4, 6, 7, 8, 9, 10]))  \n",
    "print(missing_num([7, 2, 3, 6, 5, 9, 1, 4, 8]))  \n",
    "print(missing_num([10, 5, 1, 2, 4, 6, 8, 3, 9]))  \n"
   ]
  },
  {
   "cell_type": "code",
   "execution_count": null,
   "id": "6d17e05e",
   "metadata": {},
   "outputs": [],
   "source": []
  }
 ],
 "metadata": {
  "kernelspec": {
   "display_name": "Python 3 (ipykernel)",
   "language": "python",
   "name": "python3"
  },
  "language_info": {
   "codemirror_mode": {
    "name": "ipython",
    "version": 3
   },
   "file_extension": ".py",
   "mimetype": "text/x-python",
   "name": "python",
   "nbconvert_exporter": "python",
   "pygments_lexer": "ipython3",
   "version": "3.9.7"
  }
 },
 "nbformat": 4,
 "nbformat_minor": 5
}
