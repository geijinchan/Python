{
 "cells": [
  {
   "cell_type": "markdown",
   "id": "98747038",
   "metadata": {},
   "source": [
    "## 1.\tWrite a Python program to print \"Hello Python\"?"
   ]
  },
  {
   "cell_type": "code",
   "execution_count": 2,
   "id": "bf05c847",
   "metadata": {},
   "outputs": [
    {
     "name": "stdout",
     "output_type": "stream",
     "text": [
      "Hello\n"
     ]
    }
   ],
   "source": [
    "def hello_Print():\n",
    "    print('Hello')\n",
    "hello_Print()"
   ]
  },
  {
   "cell_type": "markdown",
   "id": "eb2f5ad1",
   "metadata": {},
   "source": [
    "## 2.\tWrite a Python program to do arithmetical operations addition and division.?"
   ]
  },
  {
   "cell_type": "code",
   "execution_count": 4,
   "id": "9c8264cd",
   "metadata": {},
   "outputs": [
    {
     "name": "stdout",
     "output_type": "stream",
     "text": [
      "9\n",
      "1.25\n"
     ]
    }
   ],
   "source": [
    "def addition(a,b):\n",
    "    return(a+b)\n",
    "def division(a,b):\n",
    "    return(a/b)\n",
    "\n",
    "print(addition(5,4))\n",
    "print(division(5,4))"
   ]
  },
  {
   "cell_type": "markdown",
   "id": "6326d9d4",
   "metadata": {},
   "source": [
    "## 3.\tWrite a Python program to find the area of a triangle?"
   ]
  },
  {
   "cell_type": "code",
   "execution_count": 9,
   "id": "8250b4d9",
   "metadata": {},
   "outputs": [
    {
     "name": "stdout",
     "output_type": "stream",
     "text": [
      "Enter the base of the triangle :3\n",
      "Enter the height of the triangle :4\n",
      "Area of the triangle is 6.0\n"
     ]
    }
   ],
   "source": [
    "def area_traingle(base,height):\n",
    "    return(0.5*base*height)\n",
    "base = int(input('Enter the base of the triangle :'))\n",
    "height = int(input('Enter the height of the triangle :'))\n",
    "print(f'Area of the triangle is {area_traingle(base,height)}')"
   ]
  },
  {
   "cell_type": "markdown",
   "id": "1e7df9bb",
   "metadata": {},
   "source": [
    "## 4.\tWrite a Python program to swap two variables?"
   ]
  },
  {
   "cell_type": "code",
   "execution_count": 10,
   "id": "2aad5d33",
   "metadata": {},
   "outputs": [
    {
     "name": "stdout",
     "output_type": "stream",
     "text": [
      "(2, 1)\n"
     ]
    }
   ],
   "source": [
    "def swapping(a,b):\n",
    "    temp = a\n",
    "    a = b\n",
    "    b = temp\n",
    "    return(a,b)\n",
    "print(swapping(1,2))"
   ]
  },
  {
   "cell_type": "markdown",
   "id": "17fd4eb0",
   "metadata": {},
   "source": [
    "## 5.\tWrite a Python program to generate a random number?"
   ]
  },
  {
   "cell_type": "code",
   "execution_count": 18,
   "id": "4725a59e",
   "metadata": {},
   "outputs": [
    {
     "name": "stdout",
     "output_type": "stream",
     "text": [
      "0.09930713772344069\n"
     ]
    }
   ],
   "source": [
    "import random\n",
    "def generate_random_number():\n",
    "    return(random.random())\n",
    "print(generate_random_number())"
   ]
  }
 ],
 "metadata": {
  "kernelspec": {
   "display_name": "Python 3 (ipykernel)",
   "language": "python",
   "name": "python3"
  },
  "language_info": {
   "codemirror_mode": {
    "name": "ipython",
    "version": 3
   },
   "file_extension": ".py",
   "mimetype": "text/x-python",
   "name": "python",
   "nbconvert_exporter": "python",
   "pygments_lexer": "ipython3",
   "version": "3.9.7"
  }
 },
 "nbformat": 4,
 "nbformat_minor": 5
}
