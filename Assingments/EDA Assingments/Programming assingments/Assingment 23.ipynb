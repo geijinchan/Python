{
 "cells": [
  {
   "cell_type": "markdown",
   "id": "4fb4e8d1",
   "metadata": {},
   "source": [
    "## Question 1\n",
    "Create a function that takes a number as an argument and returns True or False depending on whether the number is symmetrical or not. A number is symmetrical when it is the same as its reverse."
   ]
  },
  {
   "cell_type": "code",
   "execution_count": 1,
   "id": "1dfe72ff",
   "metadata": {},
   "outputs": [],
   "source": [
    "def is_symmetrical(num):\n",
    "    return str(num) == str(num)[::-1]"
   ]
  },
  {
   "cell_type": "code",
   "execution_count": 3,
   "id": "2bdbfb6b",
   "metadata": {},
   "outputs": [
    {
     "name": "stdout",
     "output_type": "stream",
     "text": [
      "True\n",
      "False\n",
      "True\n",
      "False\n",
      "True\n"
     ]
    }
   ],
   "source": [
    "print(is_symmetrical(7227))\n",
    "print(is_symmetrical(12567))\n",
    "print(is_symmetrical(44444444)) \n",
    "print(is_symmetrical(9939))\n",
    "print(is_symmetrical(1112111))"
   ]
  },
  {
   "cell_type": "markdown",
   "id": "27a7fa68",
   "metadata": {},
   "source": [
    "## Question 2\n",
    "Given a string of numbers separated by a comma and space, return the product of the numbers."
   ]
  },
  {
   "cell_type": "code",
   "execution_count": 4,
   "id": "b10484d1",
   "metadata": {},
   "outputs": [],
   "source": [
    "def multiply_nums(nums):\n",
    "    # Split the string into a list of numbers\n",
    "    num_list = nums.split(\", \")\n",
    "    product = 1\n",
    "    for num in num_list:\n",
    "        product *= int(num)\n",
    "    return product"
   ]
  },
  {
   "cell_type": "code",
   "execution_count": 5,
   "id": "0aa6c0cd",
   "metadata": {},
   "outputs": [
    {
     "name": "stdout",
     "output_type": "stream",
     "text": [
      "6\n",
      "24\n",
      "0\n",
      "-20\n"
     ]
    }
   ],
   "source": [
    "print(multiply_nums(\"2, 3\"))\n",
    "print(multiply_nums(\"1, 2, 3, 4\"))\n",
    "print(multiply_nums(\"54, 75, 453, 0\"))\n",
    "print(multiply_nums(\"10, -2\"))"
   ]
  },
  {
   "cell_type": "markdown",
   "id": "40827a22",
   "metadata": {},
   "source": [
    "## Question 3\n",
    "Create a function that squares every digit of a number."
   ]
  },
  {
   "cell_type": "code",
   "execution_count": 6,
   "id": "91e6475d",
   "metadata": {},
   "outputs": [],
   "source": [
    "def square_digits(num):\n",
    "    num_str = str(num)\n",
    "    squared_str = \"\".join(str(int(digit) ** 2) for digit in num_str)\n",
    "    squared_num = int(squared_str)    \n",
    "    return squared_num"
   ]
  },
  {
   "cell_type": "code",
   "execution_count": 7,
   "id": "e39a3b89",
   "metadata": {},
   "outputs": [
    {
     "name": "stdout",
     "output_type": "stream",
     "text": [
      "811181\n",
      "416649\n",
      "9414\n"
     ]
    }
   ],
   "source": [
    "print(square_digits(9119))\n",
    "print(square_digits(2483))\n",
    "print(square_digits(3212))"
   ]
  },
  {
   "cell_type": "markdown",
   "id": "5f1b2f06",
   "metadata": {},
   "source": [
    "## Question 4\n",
    "Create a function that sorts a list and removes all duplicate items from it."
   ]
  },
  {
   "cell_type": "code",
   "execution_count": 8,
   "id": "414ba7b5",
   "metadata": {},
   "outputs": [],
   "source": [
    "def setify(lst):\n",
    "    unique_lst = sorted(set(lst))\n",
    "    return list(unique_lst)"
   ]
  },
  {
   "cell_type": "code",
   "execution_count": 9,
   "id": "ece64941",
   "metadata": {},
   "outputs": [
    {
     "name": "stdout",
     "output_type": "stream",
     "text": [
      "[1, 3, 5]\n",
      "[4]\n",
      "[5, 7, 8, 9, 10, 15]\n",
      "[1, 2, 3]\n"
     ]
    }
   ],
   "source": [
    "print(setify([1, 3, 3, 5, 5]))\n",
    "print(setify([4, 4, 4, 4]))\n",
    "print(setify([5, 7, 8, 9, 10, 15]))\n",
    "print(setify([3, 3, 3, 2, 1]))"
   ]
  },
  {
   "cell_type": "markdown",
   "id": "c68b9a99",
   "metadata": {},
   "source": [
    "## Question 5\n",
    "Create a function that returns the mean of all digits."
   ]
  },
  {
   "cell_type": "code",
   "execution_count": 10,
   "id": "29eb06c1",
   "metadata": {},
   "outputs": [],
   "source": [
    "def mean(num):\n",
    "    digits = [int(digit) for digit in str(num)]\n",
    "    mean_value = sum(digits) // len(digits)\n",
    "    return mean_value"
   ]
  },
  {
   "cell_type": "code",
   "execution_count": 11,
   "id": "491714e6",
   "metadata": {},
   "outputs": [
    {
     "name": "stdout",
     "output_type": "stream",
     "text": [
      "3\n",
      "3\n",
      "6\n"
     ]
    }
   ],
   "source": [
    "print(mean(42)) \n",
    "print(mean(12345)) \n",
    "print(mean(666))  "
   ]
  },
  {
   "cell_type": "code",
   "execution_count": null,
   "id": "a94434ca",
   "metadata": {},
   "outputs": [],
   "source": []
  }
 ],
 "metadata": {
  "kernelspec": {
   "display_name": "Python 3 (ipykernel)",
   "language": "python",
   "name": "python3"
  },
  "language_info": {
   "codemirror_mode": {
    "name": "ipython",
    "version": 3
   },
   "file_extension": ".py",
   "mimetype": "text/x-python",
   "name": "python",
   "nbconvert_exporter": "python",
   "pygments_lexer": "ipython3",
   "version": "3.9.7"
  }
 },
 "nbformat": 4,
 "nbformat_minor": 5
}
