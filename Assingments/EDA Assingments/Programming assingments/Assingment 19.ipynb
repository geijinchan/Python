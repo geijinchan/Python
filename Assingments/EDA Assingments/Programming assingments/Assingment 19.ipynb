{
 "cells": [
  {
   "cell_type": "markdown",
   "id": "fe465310",
   "metadata": {},
   "source": [
    "## Question1\n",
    "Create a function that takes a string and returns a string in which each character is repeated once."
   ]
  },
  {
   "cell_type": "code",
   "execution_count": 3,
   "id": "94878789",
   "metadata": {},
   "outputs": [
    {
     "name": "stdout",
     "output_type": "stream",
     "text": [
      "SSttrriinngg\n",
      "HHeelllloo  WWoorrlldd!!\n",
      "11223344!!__  \n"
     ]
    }
   ],
   "source": [
    "def double_char(txt):\n",
    "    return ''.join([char * 2 for char in txt])\n",
    "\n",
    "print(double_char(\"String\"))  \n",
    "print(double_char(\"Hello World!\"))  \n",
    "print(double_char(\"1234!_ \"))  \n"
   ]
  },
  {
   "cell_type": "markdown",
   "id": "5edc858b",
   "metadata": {},
   "source": [
    "## Question2\n",
    "Create a function that reverses a boolean value and returns the string \"boolean expected\" if another variable type is given.\n"
   ]
  },
  {
   "cell_type": "code",
   "execution_count": 4,
   "id": "a2acb3a4",
   "metadata": {},
   "outputs": [
    {
     "name": "stdout",
     "output_type": "stream",
     "text": [
      "False\n",
      "True\n",
      "boolean expected\n",
      "boolean expected\n"
     ]
    }
   ],
   "source": [
    "def reverse(arg):\n",
    "    if isinstance(arg, bool):\n",
    "        return not arg\n",
    "    else:\n",
    "        return \"boolean expected\"\n",
    "print(reverse(True))  \n",
    "print(reverse(False))  \n",
    "print(reverse(0))  \n",
    "print(reverse(None))  \n"
   ]
  },
  {
   "cell_type": "markdown",
   "id": "9a722012",
   "metadata": {},
   "source": [
    "## Question3\n",
    "Create a function that returns the thickness (in meters) of a piece of paper after folding it n number of times. The paper starts off with a thickness of 0.5mm."
   ]
  },
  {
   "cell_type": "code",
   "execution_count": 5,
   "id": "b7e05847",
   "metadata": {},
   "outputs": [
    {
     "name": "stdout",
     "output_type": "stream",
     "text": [
      "0.001m\n",
      "0.008m\n",
      "1048.576m\n"
     ]
    }
   ],
   "source": [
    "def num_layers(n):\n",
    "    thickness_mm = 0.5 * (2 ** n) \n",
    "    thickness_m = thickness_mm / 1000 \n",
    "    return f\"{thickness_m}m\"\n",
    "print(num_layers(1)) \n",
    "print(num_layers(4)) \n",
    "print(num_layers(21)) "
   ]
  },
  {
   "cell_type": "markdown",
   "id": "6024c7a1",
   "metadata": {},
   "source": [
    "## Question4\n",
    "Create a function that takes a single string as argument and returns an ordered list containing the indices of all capital letters in the string."
   ]
  },
  {
   "cell_type": "code",
   "execution_count": 6,
   "id": "9d9c2d74",
   "metadata": {},
   "outputs": [
    {
     "name": "stdout",
     "output_type": "stream",
     "text": [
      "[1, 3, 5]\n",
      "[1, 3, 4, 6]\n",
      "[]\n",
      "[0, 1, 2, 3, 4, 5]\n",
      "[1]\n"
     ]
    }
   ],
   "source": [
    "def index_of_caps(word):\n",
    "    indices = []\n",
    "    for i, char in enumerate(word):\n",
    "        if char.isupper():\n",
    "            indices.append(i)\n",
    "    return indices\n",
    "print(index_of_caps(\"eDaBiT\"))  \n",
    "print(index_of_caps(\"eQuINoX\"))  \n",
    "print(index_of_caps(\"determine\")) \n",
    "print(index_of_caps(\"STRIKE\"))  \n",
    "print(index_of_caps(\"sUn\"))  \n"
   ]
  },
  {
   "cell_type": "markdown",
   "id": "65033621",
   "metadata": {},
   "source": [
    "## Question5\n",
    "Using list comprehensions, create a function that finds all even numbers from 1 to the given number."
   ]
  },
  {
   "cell_type": "code",
   "execution_count": 7,
   "id": "03bd5552",
   "metadata": {},
   "outputs": [
    {
     "name": "stdout",
     "output_type": "stream",
     "text": [
      "[2, 4, 6, 8]\n",
      "[2, 4]\n",
      "[2]\n"
     ]
    }
   ],
   "source": [
    "def find_even_nums(num):\n",
    "    return [n for n in range(1, num + 1) if n % 2 == 0]\n",
    "print(find_even_nums(8))  \n",
    "print(find_even_nums(4))  \n",
    "print(find_even_nums(2))  \n"
   ]
  },
  {
   "cell_type": "code",
   "execution_count": null,
   "id": "d56e1825",
   "metadata": {},
   "outputs": [],
   "source": []
  },
  {
   "cell_type": "code",
   "execution_count": null,
   "id": "b463b093",
   "metadata": {},
   "outputs": [],
   "source": []
  }
 ],
 "metadata": {
  "kernelspec": {
   "display_name": "Python 3 (ipykernel)",
   "language": "python",
   "name": "python3"
  },
  "language_info": {
   "codemirror_mode": {
    "name": "ipython",
    "version": 3
   },
   "file_extension": ".py",
   "mimetype": "text/x-python",
   "name": "python",
   "nbconvert_exporter": "python",
   "pygments_lexer": "ipython3",
   "version": "3.9.7"
  }
 },
 "nbformat": 4,
 "nbformat_minor": 5
}
