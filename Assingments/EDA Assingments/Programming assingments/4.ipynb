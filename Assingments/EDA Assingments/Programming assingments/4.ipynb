{
 "cells": [
  {
   "cell_type": "markdown",
   "id": "719d4748",
   "metadata": {},
   "source": [
    "## 1.\tWrite a Python Program to Find the Factorial of a Number?"
   ]
  },
  {
   "cell_type": "code",
   "execution_count": 2,
   "id": "6a51bf3d",
   "metadata": {},
   "outputs": [
    {
     "name": "stdout",
     "output_type": "stream",
     "text": [
      "Factorial of 6 is 720\n"
     ]
    }
   ],
   "source": [
    "def factorial(n):\n",
    "    if n == 0:\n",
    "        return 1\n",
    "    else:\n",
    "        return n * factorial(n-1)\n",
    "\n",
    "\n",
    "    \n",
    "number = 6\n",
    "result = factorial(number)\n",
    "print(\"Factorial of\", number, \"is\", result)"
   ]
  },
  {
   "cell_type": "markdown",
   "id": "1b420094",
   "metadata": {},
   "source": [
    "## 2.\tWrite a Python Program to Display the multiplication Table?"
   ]
  },
  {
   "cell_type": "code",
   "execution_count": 20,
   "id": "eaddddc4",
   "metadata": {},
   "outputs": [
    {
     "name": "stdout",
     "output_type": "stream",
     "text": [
      "Table of 5 :\n",
      "5  x  1  =  5\n",
      "5  x  2  =  10\n",
      "5  x  3  =  15\n",
      "5  x  4  =  20\n",
      "5  x  5  =  25\n",
      "5  x  6  =  30\n",
      "5  x  7  =  35\n",
      "5  x  8  =  40\n",
      "5  x  9  =  45\n",
      "5  x  10  =  50\n"
     ]
    }
   ],
   "source": [
    "def multiplication(x):\n",
    "    print('Table of',x,':')\n",
    "    for i in range(1,11):\n",
    "        print(x,' x ',i,' = ',x*i)\n",
    "\n",
    "multiplication(5)"
   ]
  },
  {
   "cell_type": "markdown",
   "id": "5c17c7cb",
   "metadata": {},
   "source": [
    "## 3.\tWrite a Python Program to Print the Fibonacci sequence?"
   ]
  },
  {
   "cell_type": "code",
   "execution_count": 14,
   "id": "6d2dc885",
   "metadata": {},
   "outputs": [
    {
     "name": "stdout",
     "output_type": "stream",
     "text": [
      "Fibonacci Sequence:\n",
      "[0, 1, 1, 2, 3, 5, 8, 13, 21, 34]\n"
     ]
    }
   ],
   "source": [
    "def fibonacci_sequence(n):\n",
    "    sequence = []\n",
    "    if n <= 0:\n",
    "        return sequence\n",
    "    elif n == 1:\n",
    "        sequence.append(0)\n",
    "    elif n == 2:\n",
    "        sequence.extend([0, 1])\n",
    "    else:\n",
    "        sequence.extend([0, 1])\n",
    "        for i in range(2, n):\n",
    "            next_number = sequence[i-1] + sequence[i-2]\n",
    "            sequence.append(next_number)\n",
    "    return sequence\n",
    "\n",
    "terms = 10\n",
    "fib_sequence = fibonacci_sequence(terms)\n",
    "print(\"Fibonacci Sequence:\")\n",
    "print(fib_sequence)"
   ]
  },
  {
   "cell_type": "markdown",
   "id": "7e56ac84",
   "metadata": {},
   "source": [
    "## 4.\tWrite a Python Program to Check Armstrong Number?"
   ]
  },
  {
   "cell_type": "code",
   "execution_count": 21,
   "id": "cc9198ae",
   "metadata": {},
   "outputs": [
    {
     "name": "stdout",
     "output_type": "stream",
     "text": [
      "153 is an Armstrong number.\n"
     ]
    }
   ],
   "source": [
    "def is_armstrong_number(num):\n",
    "    str_num = str(num)\n",
    "    num_digits = len(str_num)\n",
    "    sum_of_digits = sum(int(digit) ** num_digits for digit in str_num)\n",
    "    if sum_of_digits == num:\n",
    "        return True\n",
    "    else:\n",
    "        return False\n",
    "\n",
    "number = 153\n",
    "if is_armstrong_number(number):\n",
    "    print(number, \"is an Armstrong number.\")\n",
    "else:\n",
    "    print(number, \"is not an Armstrong number.\")"
   ]
  },
  {
   "cell_type": "markdown",
   "id": "4b2f7185",
   "metadata": {},
   "source": [
    "## 5.\tWrite a Python Program to Find Armstrong Number in an Interval?"
   ]
  },
  {
   "cell_type": "code",
   "execution_count": 23,
   "id": "b6d07d6d",
   "metadata": {},
   "outputs": [
    {
     "name": "stdout",
     "output_type": "stream",
     "text": [
      "Armstrong Numbers between 100 and 1000 are:\n",
      "[153, 370, 371, 407]\n"
     ]
    }
   ],
   "source": [
    "def find_armstrong_numbers(start, end):\n",
    "    armstrong_numbers = []\n",
    "    for i in range(start, end+1):\n",
    "        order = len(str(i))\n",
    "        sum_of_digits = sum(int(digit)**order for digit in str(i))\n",
    "        if sum_of_digits == i:\n",
    "            armstrong_numbers.append(i)\n",
    "    return armstrong_numbers\n",
    "\n",
    "\n",
    "start = 100\n",
    "end = 1000\n",
    "armstrong_nums = find_armstrong_numbers(start, end)\n",
    "print(\"Armstrong Numbers between\", start, \"and\", end, \"are:\")\n",
    "print(armstrong_nums)"
   ]
  },
  {
   "cell_type": "markdown",
   "id": "7203a3a6",
   "metadata": {},
   "source": [
    "## 6.\tWrite a Python Program to Find the Sum of Natural Numbers?"
   ]
  },
  {
   "cell_type": "code",
   "execution_count": 25,
   "id": "5472fe5a",
   "metadata": {},
   "outputs": [
    {
     "name": "stdout",
     "output_type": "stream",
     "text": [
      "Sum of first 20 natural numbers is 210\n"
     ]
    }
   ],
   "source": [
    "def sum_of_natural_numbers(n):\n",
    "    if n < 0:\n",
    "        return \"Enter a positive integer.\"\n",
    "    else:\n",
    "        sum = 0\n",
    "        for i in range(1, n+1):\n",
    "            sum += i\n",
    "        return sum\n",
    "\n",
    "\n",
    "number = 20\n",
    "result = sum_of_natural_numbers(number)\n",
    "print(\"Sum of first\", number, \"natural numbers is\", result)"
   ]
  },
  {
   "cell_type": "code",
   "execution_count": null,
   "id": "8717388e",
   "metadata": {},
   "outputs": [],
   "source": []
  }
 ],
 "metadata": {
  "kernelspec": {
   "display_name": "Python 3 (ipykernel)",
   "language": "python",
   "name": "python3"
  },
  "language_info": {
   "codemirror_mode": {
    "name": "ipython",
    "version": 3
   },
   "file_extension": ".py",
   "mimetype": "text/x-python",
   "name": "python",
   "nbconvert_exporter": "python",
   "pygments_lexer": "ipython3",
   "version": "3.9.7"
  }
 },
 "nbformat": 4,
 "nbformat_minor": 5
}
