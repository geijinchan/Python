{
 "cells": [
  {
   "cell_type": "markdown",
   "id": "237b7151",
   "metadata": {},
   "source": [
    "## 1.\tWrite a Python program to find sum of elements in list?"
   ]
  },
  {
   "cell_type": "code",
   "execution_count": 13,
   "id": "0ca4e349",
   "metadata": {},
   "outputs": [
    {
     "name": "stdout",
     "output_type": "stream",
     "text": [
      "List: [1, 2, 3, 4, 5]\n",
      "Sum of elements: 15\n"
     ]
    }
   ],
   "source": [
    "def sum_of_elements(lst):\n",
    "    total = sum(lst)\n",
    "    return total\n",
    "\n",
    "my_list = [1, 2, 3, 4, 5]\n",
    "list_sum = sum_of_elements(my_list)\n",
    "print(\"List:\", my_list)\n",
    "print(\"Sum of elements:\", list_sum)"
   ]
  },
  {
   "cell_type": "markdown",
   "id": "883e0751",
   "metadata": {},
   "source": [
    "## 2.\tWrite a Python program to  Multiply all numbers in the list?"
   ]
  },
  {
   "cell_type": "code",
   "execution_count": 22,
   "id": "dc2686ee",
   "metadata": {},
   "outputs": [
    {
     "name": "stdout",
     "output_type": "stream",
     "text": [
      "List: [1, 2, 3, 4, 5]\n",
      "Product of elements: 120\n"
     ]
    }
   ],
   "source": [
    "def multiply_elements(lst):\n",
    "    result = 1\n",
    "    for num in lst:\n",
    "        result *= num\n",
    "    return result\n",
    "my_list = [1, 2, 3, 4, 5]\n",
    "product = multiply_elements(my_list)\n",
    "print(\"List:\", my_list)\n",
    "print(\"Product of elements:\", product)\n"
   ]
  },
  {
   "cell_type": "markdown",
   "id": "f9ba9529",
   "metadata": {},
   "source": [
    "## 3.\tWrite a Python program to find smallest number in a list?"
   ]
  },
  {
   "cell_type": "code",
   "execution_count": 34,
   "id": "e8519953",
   "metadata": {},
   "outputs": [
    {
     "name": "stdout",
     "output_type": "stream",
     "text": [
      "List: [5, 2, 8, 1, 9]\n",
      "Smallest number: 1\n"
     ]
    }
   ],
   "source": [
    "def find_smallest_number(lst):\n",
    "    smallest = min(lst)\n",
    "    return smallest\n",
    "my_list = [5, 2, 8, 1, 9]\n",
    "smallest_number = find_smallest_number(my_list)\n",
    "print(\"List:\", my_list)\n",
    "print(\"Smallest number:\", smallest_number)"
   ]
  },
  {
   "cell_type": "markdown",
   "id": "8306329b",
   "metadata": {},
   "source": [
    "## 4.\tWrite a Python program to find largest number in a list?"
   ]
  },
  {
   "cell_type": "code",
   "execution_count": 43,
   "id": "6ab40db5",
   "metadata": {},
   "outputs": [
    {
     "name": "stdout",
     "output_type": "stream",
     "text": [
      "List: [5, 2, 8, 1, 9]\n",
      "Largest number: 9\n"
     ]
    }
   ],
   "source": [
    "def find_largest_number(lst):\n",
    "    largest = lst[0]\n",
    "    for num in lst:\n",
    "        if num > largest:\n",
    "            largest = num\n",
    "    return largest\n",
    "my_list = [5, 2, 8, 1, 9]\n",
    "largest_number = find_largest_number(my_list)\n",
    "print(\"List:\", my_list)\n",
    "print(\"Largest number:\", largest_number)"
   ]
  },
  {
   "cell_type": "markdown",
   "id": "d07b3487",
   "metadata": {},
   "source": [
    "## 5.\tWrite a Python program to find second largest number in a list?"
   ]
  },
  {
   "cell_type": "code",
   "execution_count": 53,
   "id": "3992eb9e",
   "metadata": {},
   "outputs": [
    {
     "name": "stdout",
     "output_type": "stream",
     "text": [
      "List: [5, 2, 8, 1, 9]\n",
      "Second largest number: 8\n"
     ]
    }
   ],
   "source": [
    "def find_second_largest_number(lst):\n",
    "    if len(lst) < 2:\n",
    "        return None\n",
    "    largest = max(lst[0], lst[1])\n",
    "    second_largest = min(lst[0], lst[1])\n",
    "    for num in lst[2:]:\n",
    "        if num > largest:\n",
    "            second_largest = largest\n",
    "            largest = num\n",
    "        elif num > second_largest and num < largest:\n",
    "            second_largest = num\n",
    "    return second_largest\n",
    "my_list = [5, 2, 8, 1, 9]\n",
    "second_largest_number = find_second_largest_number(my_list)\n",
    "print(\"List:\", my_list)\n",
    "if second_largest_number is None:\n",
    "    print(\"There is no second largest number in the list.\")\n",
    "else:\n",
    "    print(\"Second largest number:\", second_largest_number)"
   ]
  },
  {
   "cell_type": "markdown",
   "id": "4c49ebc8",
   "metadata": {},
   "source": [
    "## 6.\tWrite a Python program to find N largest elements from a list?"
   ]
  },
  {
   "cell_type": "code",
   "execution_count": 67,
   "id": "5a019e0a",
   "metadata": {},
   "outputs": [
    {
     "name": "stdout",
     "output_type": "stream",
     "text": [
      "List: [5, 2, 8, 1, 9, 4, 7, 3]\n",
      "3 largest elements: [9, 8, 7]\n"
     ]
    }
   ],
   "source": [
    "def find_n_largest_elements(lst, n):\n",
    "    if n > len(lst):\n",
    "        return None\n",
    "    sorted_list = sorted(lst, reverse=True)\n",
    "    n_largest_elements = sorted_list[:n]\n",
    "    return n_largest_elements\n",
    "my_list = [5, 2, 8, 1, 9, 4, 7, 3]\n",
    "n = 3\n",
    "n_largest_elements = find_n_largest_elements(my_list, n)\n",
    "print(\"List:\", my_list)\n",
    "if n_largest_elements is None:\n",
    "    print(\"The list doesn't have enough elements to find\", n, \"largest elements.\")\n",
    "else:\n",
    "    print(n, \"largest elements:\", n_largest_elements)"
   ]
  },
  {
   "cell_type": "markdown",
   "id": "33322383",
   "metadata": {},
   "source": [
    "## 7.\tWrite a Python program to print even numbers in a list?"
   ]
  },
  {
   "cell_type": "code",
   "execution_count": 76,
   "id": "72a9cbd9",
   "metadata": {},
   "outputs": [
    {
     "name": "stdout",
     "output_type": "stream",
     "text": [
      "List: [1, 2, 3, 4, 5, 6, 7, 8, 9, 10]\n",
      "Even numbers:\n",
      "2\n",
      "4\n",
      "6\n",
      "8\n",
      "10\n"
     ]
    }
   ],
   "source": [
    "def print_even_numbers(lst):\n",
    "    even_numbers = [num for num in lst if num % 2 == 0]\n",
    "    for num in even_numbers:\n",
    "        print(num)\n",
    "my_list = [1, 2, 3, 4, 5, 6, 7, 8, 9, 10]\n",
    "print(\"List:\", my_list)\n",
    "print(\"Even numbers:\")\n",
    "print_even_numbers(my_list)"
   ]
  },
  {
   "cell_type": "markdown",
   "id": "0cc6ffbe",
   "metadata": {},
   "source": [
    "## 8.\tWrite a Python program to print odd numbers in a List?"
   ]
  },
  {
   "cell_type": "code",
   "execution_count": 91,
   "id": "c59b25e3",
   "metadata": {},
   "outputs": [
    {
     "name": "stdout",
     "output_type": "stream",
     "text": [
      "List: [1, 2, 3, 4, 5, 6, 7, 8, 9, 10]\n",
      "Odd numbers:\n",
      "1\n",
      "3\n",
      "5\n",
      "7\n",
      "9\n"
     ]
    }
   ],
   "source": [
    "def print_odd_numbers(lst):\n",
    "    odd_numbers = [num for num in lst if num % 2 != 0]\n",
    "    for num in odd_numbers:\n",
    "        print(num)\n",
    "my_list = [1, 2, 3, 4, 5, 6, 7, 8, 9, 10]\n",
    "print(\"List:\", my_list)\n",
    "print(\"Odd numbers:\")\n",
    "print_odd_numbers(my_list)"
   ]
  },
  {
   "cell_type": "markdown",
   "id": "8864143c",
   "metadata": {},
   "source": [
    "## 9.\tWrite a Python program to Remove empty List from List?"
   ]
  },
  {
   "cell_type": "code",
   "execution_count": 104,
   "id": "7d22e28e",
   "metadata": {},
   "outputs": [
    {
     "name": "stdout",
     "output_type": "stream",
     "text": [
      "List: [1, [], 2, [], 3, [], [], 4, 5, []]\n",
      "List after removing empty lists: [1, 2, 3, 4, 5]\n"
     ]
    }
   ],
   "source": [
    "def remove_empty_lists(lst):\n",
    "    filtered_list = [sublist for sublist in lst if sublist]\n",
    "    return filtered_list\n",
    "my_list = [1, [], 2, [], 3, [], [], 4, 5, []]\n",
    "print(\"List:\", my_list)\n",
    "filtered_list = remove_empty_lists(my_list)\n",
    "print(\"List after removing empty lists:\", filtered_list)"
   ]
  },
  {
   "cell_type": "markdown",
   "id": "2ad90744",
   "metadata": {},
   "source": [
    "## 10.\tWrite a Python program to Cloning or Copying a list?"
   ]
  },
  {
   "cell_type": "code",
   "execution_count": 116,
   "id": "0b01896c",
   "metadata": {},
   "outputs": [
    {
     "name": "stdout",
     "output_type": "stream",
     "text": [
      "Original list: [1, 2, 3, 4, 5]\n",
      "Cloned list: [1, 2, 3, 4, 5]\n"
     ]
    }
   ],
   "source": [
    "def clone_list(lst):\n",
    "    cloned_list = lst.copy()\n",
    "    return cloned_list\n",
    "my_list = [1, 2, 3, 4, 5]\n",
    "cloned_list = clone_list(my_list)\n",
    "print(\"Original list:\", my_list)\n",
    "print(\"Cloned list:\", cloned_list)"
   ]
  },
  {
   "cell_type": "markdown",
   "id": "6dabc8c5",
   "metadata": {},
   "source": [
    "## 11.\tWrite a Python program to Count occurrences of an element in a list?"
   ]
  },
  {
   "cell_type": "code",
   "execution_count": 131,
   "id": "0a95520a",
   "metadata": {},
   "outputs": [
    {
     "name": "stdout",
     "output_type": "stream",
     "text": [
      "The element 2 occurs 4 times in the list.\n"
     ]
    }
   ],
   "source": [
    "def count_occurrences(lst, element):\n",
    "    count = 0\n",
    "    for item in lst:\n",
    "        if item == element:\n",
    "            count += 1\n",
    "    return count\n",
    "my_list = [1, 2, 3, 4, 2, 2, 3, 1, 2]\n",
    "target_element = 2\n",
    "occurrences = count_occurrences(my_list, target_element)\n",
    "print(f\"The element {target_element} occurs {occurrences} times in the list.\")"
   ]
  },
  {
   "cell_type": "code",
   "execution_count": null,
   "id": "551522cd",
   "metadata": {},
   "outputs": [],
   "source": []
  },
  {
   "cell_type": "code",
   "execution_count": null,
   "id": "19abff15",
   "metadata": {},
   "outputs": [],
   "source": []
  },
  {
   "cell_type": "code",
   "execution_count": null,
   "id": "e529fcdb",
   "metadata": {},
   "outputs": [],
   "source": []
  }
 ],
 "metadata": {
  "kernelspec": {
   "display_name": "Python 3 (ipykernel)",
   "language": "python",
   "name": "python3"
  },
  "language_info": {
   "codemirror_mode": {
    "name": "ipython",
    "version": 3
   },
   "file_extension": ".py",
   "mimetype": "text/x-python",
   "name": "python",
   "nbconvert_exporter": "python",
   "pygments_lexer": "ipython3",
   "version": "3.9.7"
  }
 },
 "nbformat": 4,
 "nbformat_minor": 5
}
