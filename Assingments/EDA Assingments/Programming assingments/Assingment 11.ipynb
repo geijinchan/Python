{
 "cells": [
  {
   "cell_type": "markdown",
   "id": "adce229a",
   "metadata": {},
   "source": [
    "## 1.\tWrite a Python program to find words which are greater than given length k?"
   ]
  },
  {
   "cell_type": "code",
   "execution_count": 75,
   "id": "99de6d40",
   "metadata": {},
   "outputs": [
    {
     "name": "stdout",
     "output_type": "stream",
     "text": [
      "Enter a sentence: this is abhishek\n",
      "Enter the length threshold: 5\n",
      "Words greater than length\n",
      "['abhishek']\n"
     ]
    }
   ],
   "source": [
    "def find_words_greater_than(sentence, k):\n",
    "    words = sentence.split()\n",
    "    result = []\n",
    "    \n",
    "    for word in words:\n",
    "        if len(word) > k:\n",
    "            result.append(word)\n",
    "    \n",
    "    return result\n",
    "\n",
    "\n",
    "sentence = input(\"Enter a sentence: \")\n",
    "k = int(input(\"Enter the length threshold: \"))\n",
    "words_greater_than_k = find_words_greater_than(sentence, k)\n",
    "if len(words_greater_than_k) > 0:\n",
    "    print(\"Words greater than length\")\n",
    "    print(words_greater_than_k)"
   ]
  },
  {
   "cell_type": "markdown",
   "id": "9d782591",
   "metadata": {},
   "source": [
    "## 2.\tWrite a Python program for removing i-th character from a string?"
   ]
  },
  {
   "cell_type": "code",
   "execution_count": 76,
   "id": "886bfaef",
   "metadata": {},
   "outputs": [
    {
     "name": "stdout",
     "output_type": "stream",
     "text": [
      "Enter a string: abhishek\n",
      "Enter the index of the character to remove: 0\n",
      "Updated string: bhishek\n"
     ]
    }
   ],
   "source": [
    "def remove_character(string, i):\n",
    "    if i < 0 or i >= len(string):\n",
    "        return string\n",
    "    new_string = string[:i] + string[i+1:]\n",
    "    return new_string\n",
    "\n",
    "string = input(\"Enter a string: \")\n",
    "i = int(input(\"Enter the index of the character to remove: \"))\n",
    "new_string = remove_character(string, i)\n",
    "print(\"Updated string:\", new_string)"
   ]
  },
  {
   "cell_type": "markdown",
   "id": "d37524df",
   "metadata": {},
   "source": [
    "## 3.\tWrite a Python program to split and join a string?"
   ]
  },
  {
   "cell_type": "code",
   "execution_count": 77,
   "id": "1476ab1d",
   "metadata": {},
   "outputs": [
    {
     "name": "stdout",
     "output_type": "stream",
     "text": [
      "Enter a string: this side abhishek\n",
      "Joined string: this-side-abhishek\n"
     ]
    }
   ],
   "source": [
    "def split_and_join(string):\n",
    "    words = string.split()\n",
    "    joined_string = \"-\".join(words)\n",
    "    return joined_string\n",
    "\n",
    "string = input(\"Enter a string: \")\n",
    "joined_string = split_and_join(string)\n",
    "print(\"Joined string:\", joined_string)"
   ]
  },
  {
   "cell_type": "markdown",
   "id": "ee7d60dd",
   "metadata": {},
   "source": [
    "## 4.\tWrite a Python to check if a given string is binary string or not?"
   ]
  },
  {
   "cell_type": "code",
   "execution_count": 78,
   "id": "227490d2",
   "metadata": {},
   "outputs": [
    {
     "name": "stdout",
     "output_type": "stream",
     "text": [
      "Enter a string: This is Abhishek\n",
      "The string is not a binary string.\n"
     ]
    }
   ],
   "source": [
    "def is_binary_string(string):\n",
    "    for char in string:\n",
    "        if char != '0' and char != '1':\n",
    "            return False\n",
    "    return True\n",
    "\n",
    "string = input(\"Enter a string: \")\n",
    "if is_binary_string(string):\n",
    "    print(\"The string is a binary string.\")\n",
    "else:\n",
    "    print(\"The string is not a binary string.\")"
   ]
  },
  {
   "cell_type": "markdown",
   "id": "e2498c21",
   "metadata": {},
   "source": [
    "## 5.\tWrite a Python program to find uncommon words from two Strings?"
   ]
  },
  {
   "cell_type": "code",
   "execution_count": 79,
   "id": "5cd942bf",
   "metadata": {},
   "outputs": [
    {
     "name": "stdout",
     "output_type": "stream",
     "text": [
      "Enter the first string: This is Abhishek\n",
      "Enter the second string: Abhishek this side\n",
      "Uncommon words: ['This', 'is', 'this', 'side']\n"
     ]
    }
   ],
   "source": [
    "def find_uncommon_words(string1, string2):\n",
    "    words1 = string1.split()\n",
    "    words2 = string2.split()\n",
    "    uncommon_words = [word for word in words1 if word not in words2] + [word for word in words2 if word not in words1]\n",
    "    return uncommon_words\n",
    "\n",
    "string1 = input(\"Enter the first string: \")\n",
    "string2 = input(\"Enter the second string: \")\n",
    "uncommon_words = find_uncommon_words(string1, string2)\n",
    "if len(uncommon_words) > 0:\n",
    "    print(\"Uncommon words:\", uncommon_words)\n",
    "else:\n",
    "    print(\"No uncommon words found.\")"
   ]
  },
  {
   "cell_type": "markdown",
   "id": "8bdc8b6b",
   "metadata": {},
   "source": [
    "## 6.\tWrite a Python to find all duplicate characters in string?"
   ]
  },
  {
   "cell_type": "code",
   "execution_count": 80,
   "id": "04abd8de",
   "metadata": {},
   "outputs": [
    {
     "name": "stdout",
     "output_type": "stream",
     "text": [
      "Enter a string: Hii this is Abhishek\n",
      "Duplicate characters: ['i', ' ', 's', 'h']\n"
     ]
    }
   ],
   "source": [
    "def find_duplicate_characters(string):\n",
    "    duplicates = []\n",
    "    seen = set()\n",
    "    for char in string:\n",
    "        if char in seen:\n",
    "            if char not in duplicates:\n",
    "                duplicates.append(char)\n",
    "        else:\n",
    "            seen.add(char)\n",
    "    return duplicates\n",
    "\n",
    "\n",
    "string = input(\"Enter a string: \")\n",
    "duplicate_characters = find_duplicate_characters(string)\n",
    "if len(duplicate_characters) > 0:\n",
    "    print(\"Duplicate characters:\", duplicate_characters)\n",
    "else:\n",
    "    print(\"No duplicate characters found.\")"
   ]
  },
  {
   "cell_type": "markdown",
   "id": "87af1e9b",
   "metadata": {},
   "source": [
    "## 7.\tWrite a Python Program to check if a string contains any special character?"
   ]
  },
  {
   "cell_type": "code",
   "execution_count": 82,
   "id": "3a8eb84b",
   "metadata": {},
   "outputs": [
    {
     "name": "stdout",
     "output_type": "stream",
     "text": [
      "Enter a string: My email is abhishekravikumar24@gmail.com\n",
      "The string contains special characters.\n"
     ]
    }
   ],
   "source": [
    "import re\n",
    "\n",
    "def contains_special_characters(string):\n",
    "    pattern = r'[!@#$%^&*(),.?\":{}|<>]'\n",
    "    if re.search(pattern, string):\n",
    "        return True\n",
    "    else:\n",
    "        return False\n",
    "\n",
    "\n",
    "string = input(\"Enter a string: \")\n",
    "if contains_special_characters(string):\n",
    "    print(\"The string contains special characters.\")\n",
    "else:\n",
    "    print(\"The string does not contain any special characters.\")"
   ]
  },
  {
   "cell_type": "code",
   "execution_count": null,
   "id": "4cf8395d",
   "metadata": {},
   "outputs": [],
   "source": []
  }
 ],
 "metadata": {
  "kernelspec": {
   "display_name": "Python 3 (ipykernel)",
   "language": "python",
   "name": "python3"
  },
  "language_info": {
   "codemirror_mode": {
    "name": "ipython",
    "version": 3
   },
   "file_extension": ".py",
   "mimetype": "text/x-python",
   "name": "python",
   "nbconvert_exporter": "python",
   "pygments_lexer": "ipython3",
   "version": "3.9.7"
  }
 },
 "nbformat": 4,
 "nbformat_minor": 5
}
