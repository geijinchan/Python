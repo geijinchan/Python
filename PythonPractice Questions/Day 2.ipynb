{
 "cells": [
  {
   "cell_type": "markdown",
   "id": "4f9464eb",
   "metadata": {},
   "source": [
    "#### Q. 4) \n",
    "Write a program which accepts a sequence of comma-separated numbers from console and generate a list and a tuple which contains every number.Suppose the following input is supplied to the program:\n",
    "\n",
    "34,67,55,33,12,98\n",
    "Then, the output should be:\n",
    "\n",
    "['34', '67', '55', '33', '12', '98']\n",
    "('34', '67', '55', '33', '12', '98')"
   ]
  },
  {
   "cell_type": "code",
   "execution_count": 5,
   "id": "b991ce72",
   "metadata": {},
   "outputs": [
    {
     "name": "stdout",
     "output_type": "stream",
     "text": [
      "Enter range :5\n",
      "45\n",
      "25\n",
      "65\n",
      "85\n",
      "25\n",
      "(45, 25, 65, 85, 25)\n",
      "[45, 25, 65, 85, 25]\n"
     ]
    }
   ],
   "source": [
    "a = int(input(\"Enter range :\"))\n",
    "l1 = []\n",
    "for i in range(1, a+1):\n",
    "    l1.append(int(input()))\n",
    "print(tuple(l1))\n",
    "print(l1)"
   ]
  },
  {
   "cell_type": "markdown",
   "id": "18c44cc0",
   "metadata": {},
   "source": [
    "#### Q. 5) \n",
    "Define a class which has at least two methods:\n",
    "\n",
    "getString: to get a string from console input\n",
    "printString: to print the string in upper case.\n",
    "Also please include simple test function to test the class methods.\n",
    "\n",
    "Hints:\n",
    "Use init method to construct some parameters"
   ]
  },
  {
   "cell_type": "code",
   "execution_count": 90,
   "id": "0ae7c0d3",
   "metadata": {},
   "outputs": [],
   "source": [
    "class question:\n",
    "    def getString(self):\n",
    "        self.in_put = input('Enter here :')\n",
    "    def printString(self):\n",
    "        print(self.in_put.upper())\n",
    "\n",
    "str_1 = question()\n"
   ]
  },
  {
   "cell_type": "code",
   "execution_count": 95,
   "id": "f1bea291",
   "metadata": {},
   "outputs": [
    {
     "name": "stdout",
     "output_type": "stream",
     "text": [
      "Enter here :hiii\n",
      "HIII\n"
     ]
    }
   ],
   "source": [
    "a = str_1.getString()\n",
    "str_1.printString()"
   ]
  },
  {
   "cell_type": "markdown",
   "id": "4bac4bad",
   "metadata": {},
   "source": [
    "#### Practice opps"
   ]
  },
  {
   "cell_type": "code",
   "execution_count": 72,
   "id": "c6be7189",
   "metadata": {},
   "outputs": [],
   "source": [
    "class Employee:\n",
    "    def __init__(self, first, last, pay):\n",
    "        self.first = first\n",
    "        self.last = last\n",
    "        self.pay = pay\n",
    "        self.email = first + '.' + last + '@company.com'\n",
    "    \n",
    "    def fullname(self):\n",
    "        return '{} {}'.format(self.first,self.last)\n",
    "        \n",
    "emp_1 = Employee('Abhishek','Kumar',5000)\n",
    "emp_2 = Employee('Kajal','Singh',6000)"
   ]
  },
  {
   "cell_type": "code",
   "execution_count": 71,
   "id": "752d1367",
   "metadata": {},
   "outputs": [
    {
     "name": "stdout",
     "output_type": "stream",
     "text": [
      "Abhishek.Kumar@company.com\n",
      "Kajal.Singh@company.com\n"
     ]
    }
   ],
   "source": [
    "print(emp_1.email)\n",
    "print(emp_2.email)"
   ]
  },
  {
   "cell_type": "code",
   "execution_count": 74,
   "id": "9ec2fb93",
   "metadata": {},
   "outputs": [
    {
     "name": "stdout",
     "output_type": "stream",
     "text": [
      "Abhishek Kumar\n",
      "Kajal Singh\n",
      "Abhishek Kumar\n"
     ]
    }
   ],
   "source": [
    "print('{} {}'.format(emp_1.first,emp_1.last))\n",
    "print('{} {}'.format(emp_2.first,emp_2.last))"
   ]
  },
  {
   "cell_type": "code",
   "execution_count": 75,
   "id": "75aa26d5",
   "metadata": {},
   "outputs": [
    {
     "name": "stdout",
     "output_type": "stream",
     "text": [
      "Abhishek Kumar\n",
      "Kajal Singh\n"
     ]
    }
   ],
   "source": [
    "print(emp_1.fullname())\n",
    "print(emp_2.fullname())"
   ]
  },
  {
   "cell_type": "markdown",
   "id": "74d1e4e4",
   "metadata": {},
   "source": [
    "#### Q. 6)\n",
    "Write a program that calculates and prints the value according to the given formula:\n",
    "\n",
    "Q = Square root of [(2 _ C _ D)/H]\n",
    "\n",
    "Following are the fixed values of C and H:\n",
    "\n",
    "C is 50. H is 30.\n",
    "\n",
    "D is the variable whose values should be input to your program in a comma-separated sequence.For example Let us assume the following comma separated input sequence is given to the program:\n",
    "\n",
    "100,150,180\n",
    "The output of the program should be:\n",
    "\n",
    "18,22,24"
   ]
  },
  {
   "cell_type": "code",
   "execution_count": 1,
   "id": "81619c76",
   "metadata": {},
   "outputs": [],
   "source": [
    "import math"
   ]
  },
  {
   "cell_type": "code",
   "execution_count": 34,
   "id": "9dd21428",
   "metadata": {},
   "outputs": [],
   "source": [
    "def formula(d):\n",
    "    c,h = 50,30\n",
    "    return round(math.sqrt((2*c*d)/h))"
   ]
  },
  {
   "cell_type": "code",
   "execution_count": 44,
   "id": "42e5e523",
   "metadata": {},
   "outputs": [
    {
     "name": "stdout",
     "output_type": "stream",
     "text": [
      "Enter values by comma seperated :100,150,180\n"
     ]
    }
   ],
   "source": [
    "l1 = []\n",
    "in_put = input('Enter values by comma seperated :').split(',')\n",
    "for i in in_put:\n",
    "    l1.append(formula(int(i)))\n",
    "print(l1)"
   ]
  },
  {
   "cell_type": "markdown",
   "id": "c4d6a572",
   "metadata": {},
   "source": [
    "#### Q. 7)\n",
    "Write a program which takes 2 digits, X,Y as input and generates a 2-dimensional array. The element value in the i-th row and j-th column of the array should be i _ j.*\n",
    "\n",
    "Note: i=0,1.., X-1; j=0,1,¡­Y-1. Suppose the following inputs are given to the program: 3,5\n",
    "\n",
    "Then, the output of the program should be:\n",
    "\n",
    "[[0, 0, 0, 0, 0], [0, 1, 2, 3, 4], [0, 2, 4, 6, 8]]"
   ]
  },
  {
   "cell_type": "code",
   "execution_count": 93,
   "id": "bf70a7f3",
   "metadata": {},
   "outputs": [
    {
     "name": "stdout",
     "output_type": "stream",
     "text": [
      "3,5\n"
     ]
    }
   ],
   "source": [
    "x, y = map(int,input().split(','))"
   ]
  },
  {
   "cell_type": "code",
   "execution_count": 95,
   "id": "b894d566",
   "metadata": {},
   "outputs": [
    {
     "name": "stdout",
     "output_type": "stream",
     "text": [
      "[[0, 0, 0, 0, 0], [0, 1, 2, 3, 4], [0, 2, 4, 6, 8]]\n"
     ]
    }
   ],
   "source": [
    "l1 = []\n",
    "for i in range(x):\n",
    "    temp = []\n",
    "    for j in range(y):\n",
    "        temp.append(i*j)\n",
    "    l1.append(temp)\n",
    "print(l1)"
   ]
  },
  {
   "cell_type": "code",
   "execution_count": 91,
   "id": "eeaa3d35",
   "metadata": {},
   "outputs": [
    {
     "data": {
      "text/plain": [
       "[None, None, None]"
      ]
     },
     "execution_count": 91,
     "metadata": {},
     "output_type": "execute_result"
    }
   ],
   "source": [
    "x,y = 3,4\n",
    "temp, l1 = [],[]\n",
    "[l1.append([temp.append(i) for j in range(y)]) for i in range(x)]"
   ]
  },
  {
   "cell_type": "markdown",
   "id": "779a4cf8",
   "metadata": {},
   "source": [
    "#### Q. 8)\n",
    "Write a program that accepts a comma separated sequence of words as input and prints the words in a comma-separated sequence after sorting them alphabetically.\n",
    "\n",
    "Suppose the following input is supplied to the program:\n",
    "\n",
    "without,hello,bag,world\n",
    "Then, the output should be:\n",
    "\n",
    "bag,hello,without,world"
   ]
  },
  {
   "cell_type": "code",
   "execution_count": 102,
   "id": "78c5049f",
   "metadata": {},
   "outputs": [
    {
     "name": "stdout",
     "output_type": "stream",
     "text": [
      "kajal,chan,beru\n"
     ]
    }
   ],
   "source": [
    "items = input().split(',')\n",
    "items.sort()\n",
    "print(items)"
   ]
  },
  {
   "cell_type": "markdown",
   "id": "fbf6844b",
   "metadata": {},
   "source": [
    "#### Q. 9) \n",
    "Write a program that accepts sequence of lines as input and prints the lines after making all characters in the sentence capitalized.\n",
    "\n",
    "Suppose the following input is supplied to the program:\n",
    "\n",
    "Hello world\n",
    "Practice makes perfect\n",
    "Then, the output should be:\n",
    "\n",
    "HELLO WORLD\n",
    "PRACTICE MAKES PERFECT"
   ]
  },
  {
   "cell_type": "code",
   "execution_count": null,
   "id": "8069b1fa",
   "metadata": {},
   "outputs": [],
   "source": [
    "lines = []\n",
    "while True:\n",
    "    a = input()\n",
    "    if len(a)==0:\n",
    "        break\n",
    "    else:\n",
    "        lines.append(a.upper())\n",
    "' '.join(map(str,lines))"
   ]
  },
  {
   "cell_type": "code",
   "execution_count": null,
   "id": "6fcb166d",
   "metadata": {},
   "outputs": [],
   "source": []
  }
 ],
 "metadata": {
  "kernelspec": {
   "display_name": "Python 3 (ipykernel)",
   "language": "python",
   "name": "python3"
  },
  "language_info": {
   "codemirror_mode": {
    "name": "ipython",
    "version": 3
   },
   "file_extension": ".py",
   "mimetype": "text/x-python",
   "name": "python",
   "nbconvert_exporter": "python",
   "pygments_lexer": "ipython3",
   "version": "3.9.7"
  }
 },
 "nbformat": 4,
 "nbformat_minor": 5
}
