{
 "cells": [
  {
   "cell_type": "markdown",
   "id": "1b07f247",
   "metadata": {},
   "source": [
    "## Question 1\n",
    "\n",
    "Given an array, for each element find the value of the nearest element to the right which is having a frequency greater than that of the current element. If there does not exist an answer for a position, then make the value ‘-1’.\n",
    "\n",
    "**Examples\n",
    "    Input: a[] = [1, 1, 2, 3, 4, 2, 1]\n",
    "    Output : [-1, -1, 1, 2, 2, 1, -1]\n",
    "\n",
    "    Explanation:\n",
    "    Given array a[] = [1, 1, 2, 3, 4, 2, 1]\n",
    "    Frequency of each element is: 3, 3, 2, 1, 1, 2, 3\n",
    "\n",
    "    Lets calls Next Greater Frequency element as NGF\n",
    "    1. For element a[0] = 1 which has a frequency = 3,\n",
    "       As it has frequency of 3 and no other next element\n",
    "       has frequency more than 3 so  '-1'\n",
    "    2. For element a[1] = 1 it will be -1 same logic\n",
    "       like a[0]\n",
    "    3. For element a[2] = 2 which has frequency = 2,\n",
    "       NGF element is 1 at position = 6  with frequency\n",
    "       of 3 > 2\n",
    "    4. For element a[3] = 3 which has frequency = 1,\n",
    "       NGF element is 2 at position = 5 with frequency\n",
    "       of 2 > 1\n",
    "    5. For element a[4] = 4 which has frequency = 1,\n",
    "       NGF element is 2 at position = 5 with frequency\n",
    "       of 2 > 1\n",
    "    6. For element a[5] = 2 which has frequency = 2,\n",
    "       NGF element is 1 at position = 6 with frequency\n",
    "       of 3 > 2\n",
    "    7. For element a[6] = 1 there is no element to its\n",
    "       right, hence -1\n",
    "        \n",
    "    Input : a[] = [1, 1, 1, 2, 2, 2, 2, 11, 3, 3]\n",
    "    Output : [2, 2, 2, -1, -1, -1, -1, 3, -1, -1]"
   ]
  },
  {
   "cell_type": "code",
   "execution_count": 2,
   "id": "80d2898c",
   "metadata": {},
   "outputs": [],
   "source": [
    "from collections import Counter\n",
    "\n",
    "def nearest_greater_frequency(arr):\n",
    "    freq = Counter(arr)\n",
    "    result = []\n",
    "    stack = []\n",
    "\n",
    "    for i in range(len(arr)-1, -1, -1):\n",
    "        while stack and freq[arr[i]] >= freq[stack[-1]]:\n",
    "            stack.pop()\n",
    "        if stack:\n",
    "            result.append(stack[-1])\n",
    "        else:\n",
    "            result.append(-1)\n",
    "        stack.append(arr[i])\n",
    "        \n",
    "    return result[::-1]"
   ]
  },
  {
   "cell_type": "code",
   "execution_count": 3,
   "id": "4d70dd23",
   "metadata": {},
   "outputs": [
    {
     "name": "stdout",
     "output_type": "stream",
     "text": [
      "[-1, -1, 1, 2, 2, 1, -1]\n",
      "[2, 2, 2, -1, -1, -1, -1, 3, -1, -1]\n"
     ]
    }
   ],
   "source": [
    "arr1 = [1, 1, 2, 3, 4, 2, 1]\n",
    "print(nearest_greater_frequency(arr1)) \n",
    "\n",
    "arr2 = [1, 1, 1, 2, 2, 2, 2, 11, 3, 3]\n",
    "print(nearest_greater_frequency(arr2))  \n"
   ]
  },
  {
   "cell_type": "markdown",
   "id": "2bdd8fdb",
   "metadata": {},
   "source": [
    "## Question 2\n",
    "\n",
    "Given a stack of integers, sort it in ascending order using another temporary stack.\n",
    "\n",
    "Examples\n",
    "\n",
    "    Input : [34, 3, 31, 98, 92, 23]\n",
    "    Output : [3, 23, 31, 34, 92, 98]\n",
    "\n",
    "    Input : [3, 5, 1, 4, 2, 8]\n",
    "    Output : [1, 2, 3, 4, 5, 8]"
   ]
  },
  {
   "cell_type": "code",
   "execution_count": 4,
   "id": "07d29263",
   "metadata": {},
   "outputs": [],
   "source": [
    "def sort_stack(stack):\n",
    "    temp_stack = []\n",
    "    while stack:\n",
    "        temp = stack.pop()\n",
    "        while temp_stack and temp < temp_stack[-1]:\n",
    "            stack.append(temp_stack.pop())\n",
    "        temp_stack.append(temp)\n",
    "    return temp_stack"
   ]
  },
  {
   "cell_type": "code",
   "execution_count": 5,
   "id": "24cf13cb",
   "metadata": {},
   "outputs": [
    {
     "name": "stdout",
     "output_type": "stream",
     "text": [
      "[3, 23, 31, 34, 92, 98]\n",
      "[1, 2, 3, 4, 5, 8]\n"
     ]
    }
   ],
   "source": [
    "stack1 = [34, 3, 31, 98, 92, 23]\n",
    "print(sort_stack(stack1))  \n",
    "\n",
    "stack2 = [3, 5, 1, 4, 2, 8]\n",
    "print(sort_stack(stack2)) "
   ]
  },
  {
   "cell_type": "markdown",
   "id": "5e7be612",
   "metadata": {},
   "source": [
    "## Question 3\n",
    "\n",
    "Given a stack with **push()**, **pop()**, and **empty()** operations, The task is to delete the **middle** element ****of it without using any additional data structure.\n",
    "\n",
    "    Input  : Stack[] = [1, 2, 3, 4, 5]\n",
    "\n",
    "    Output : Stack[] = [1, 2, 4, 5]\n",
    "\n",
    "    Input  : Stack[] = [1, 2, 3, 4, 5, 6]\n",
    "\n",
    "    Output : Stack[] = [1, 2, 4, 5, 6]\n"
   ]
  },
  {
   "cell_type": "code",
   "execution_count": 6,
   "id": "8525e010",
   "metadata": {},
   "outputs": [],
   "source": [
    "def delete_middle_element(stack):\n",
    "    if not stack:\n",
    "        return\n",
    "    mid = len(stack) // 2 + 1\n",
    "    if len(stack) % 2 == 0:\n",
    "        mid -= 1\n",
    "    delete_element(stack, mid)\n",
    "\n",
    "def delete_element(stack, k):\n",
    "    if k == 1:\n",
    "        stack.pop()\n",
    "        return\n",
    "    temp = stack.pop()\n",
    "    delete_element(stack, k - 1)\n",
    "    stack.append(temp)"
   ]
  },
  {
   "cell_type": "code",
   "execution_count": 7,
   "id": "3095c589",
   "metadata": {},
   "outputs": [
    {
     "name": "stdout",
     "output_type": "stream",
     "text": [
      "[1, 2, 4, 5]\n",
      "[1, 2, 3, 5, 6]\n"
     ]
    }
   ],
   "source": [
    "stack1 = [1, 2, 3, 4, 5]\n",
    "delete_middle_element(stack1)\n",
    "print(stack1)  \n",
    "\n",
    "stack2 = [1, 2, 3, 4, 5, 6]\n",
    "delete_middle_element(stack2)\n",
    "print(stack2)  "
   ]
  },
  {
   "cell_type": "markdown",
   "id": "67f8c146",
   "metadata": {},
   "source": [
    "## Question 4\n",
    "\n",
    "Given a Queue consisting of first **n** natural numbers (in random order). The task is to check whether the given Queue elements can be arranged in increasing order in another Queue using a stack. The operation allowed are:\n",
    "\n",
    "1. Push and pop elements from the stack\n",
    "2. Pop (Or Dequeue) from the given Queue.\n",
    "3. Push (Or Enqueue) in the another Queue.\n",
    "\n",
    "**Examples :**\n",
    "\n",
    "    Input : Queue[] = { 5, 1, 2, 3, 4 } \n",
    "\n",
    "    Output : Yes \n",
    "\n",
    "    Pop the first element of the given Queue \n",
    "\n",
    "    i.e 5. Push 5 into the stack. \n",
    "\n",
    "    Now, pop all the elements of the given Queue and push them to second Queue. \n",
    "\n",
    "    Now, pop element 5 in the stack and push it to the second Queue.   \n",
    "\n",
    "    Input : Queue[] = { 5, 1, 2, 6, 3, 4 } \n",
    "\n",
    "    Output : No \n",
    "\n",
    "    Push 5 to stack. \n",
    "\n",
    "    Pop 1, 2 from given Queue and push it to another Queue. \n",
    "\n",
    "    Pop 6 from given Queue and push to stack. \n",
    "\n",
    "    Pop 3, 4 from given Queue and push to second Queue. \n",
    "\n",
    "    Now, from using any of above operation, we cannot push 5 into the second Queue because it is below the 6 in the stack.\n",
    "\n"
   ]
  },
  {
   "cell_type": "code",
   "execution_count": 8,
   "id": "f90cb1bb",
   "metadata": {},
   "outputs": [],
   "source": [
    "def check_queue_order(queue):\n",
    "    stack = []\n",
    "    expected_element = 1\n",
    "\n",
    "    while queue:\n",
    "        if queue[0] == expected_element:\n",
    "            queue.pop(0)\n",
    "            expected_element += 1\n",
    "        elif stack and stack[-1] == expected_element:\n",
    "            stack.pop()\n",
    "            expected_element += 1\n",
    "        else:\n",
    "            stack.append(queue.pop(0))\n",
    "\n",
    "    while stack:\n",
    "        if stack[-1] != expected_element:\n",
    "            return False\n",
    "        stack.pop()\n",
    "        expected_element += 1\n",
    "\n",
    "    return True"
   ]
  },
  {
   "cell_type": "code",
   "execution_count": 9,
   "id": "78521db4",
   "metadata": {},
   "outputs": [
    {
     "name": "stdout",
     "output_type": "stream",
     "text": [
      "True\n",
      "False\n"
     ]
    }
   ],
   "source": [
    "queue1 = [5, 1, 2, 3, 4]\n",
    "print(check_queue_order(queue1))\n",
    "\n",
    "queue2 = [5, 1, 2, 6, 3, 4]\n",
    "print(check_queue_order(queue2))  "
   ]
  },
  {
   "cell_type": "markdown",
   "id": "d25fa5fb",
   "metadata": {},
   "source": [
    "## Question 5\n",
    "\n",
    "Given a number , write a program to reverse this number using stack.\n",
    "\n",
    "**Examples:\n",
    "    Input : 365\n",
    "    Output : 563\n",
    "\n",
    "    Input : 6899\n",
    "    Output : 9986"
   ]
  },
  {
   "cell_type": "code",
   "execution_count": 10,
   "id": "c69928b8",
   "metadata": {},
   "outputs": [],
   "source": [
    "def reverse_number(num):\n",
    "    stack = []\n",
    "    while num > 0:\n",
    "        stack.append(num % 10)\n",
    "        num //= 10\n",
    "    reverse_num = 0\n",
    "    multiplier = 1\n",
    "    while stack:\n",
    "        reverse_num += stack.pop() * multiplier\n",
    "        multiplier *= 10\n",
    "    return reverse_num"
   ]
  },
  {
   "cell_type": "code",
   "execution_count": 11,
   "id": "e92fb322",
   "metadata": {},
   "outputs": [
    {
     "name": "stdout",
     "output_type": "stream",
     "text": [
      "563\n",
      "9986\n"
     ]
    }
   ],
   "source": [
    "num1 = 365\n",
    "print(reverse_number(num1))  \n",
    "\n",
    "num2 = 6899\n",
    "print(reverse_number(num2))  "
   ]
  },
  {
   "cell_type": "markdown",
   "id": "fa6ccde6",
   "metadata": {},
   "source": [
    "## Question 6\n",
    "\n",
    "Given an integer k and a **[queue](https://www.geeksforgeeks.org/queue-data-structure/)** of integers, The task is to reverse the order of the first **k** elements of the queue, leaving the other elements in the same relative order.\n",
    "\n",
    "Only following standard operations are allowed on queue.\n",
    "\n",
    "- **enqueue(x) :** Add an item x to rear of queue\n",
    "- **dequeue() :** Remove an item from front of queue\n",
    "- **size() :** Returns number of elements in queue.\n",
    "- **front() :** Finds front item.\n",
    "</aside>"
   ]
  },
  {
   "cell_type": "code",
   "execution_count": 12,
   "id": "5c737286",
   "metadata": {},
   "outputs": [],
   "source": [
    "from collections import deque\n",
    "\n",
    "def reverse_k_elements(queue, k):\n",
    "    stack = []\n",
    "    for _ in range(k):\n",
    "        stack.append(queue.popleft())\n",
    "\n",
    "    while stack:\n",
    "        queue.appendleft(stack.pop())\n",
    "\n",
    "    return queue"
   ]
  },
  {
   "cell_type": "code",
   "execution_count": 13,
   "id": "9b3455fc",
   "metadata": {},
   "outputs": [
    {
     "name": "stdout",
     "output_type": "stream",
     "text": [
      "deque([1, 2, 3, 4, 5])\n"
     ]
    }
   ],
   "source": [
    "q = deque([1, 2, 3, 4, 5])\n",
    "k = 3\n",
    "print(reverse_k_elements(q, k)) "
   ]
  },
  {
   "cell_type": "markdown",
   "id": "0c706473",
   "metadata": {},
   "source": [
    "## Question 7\n",
    "\n",
    "Given a sequence of n strings, the task is to check if any two similar words come together and then destroy each other then print the number of words left in the sequence after this pairwise destruction.\n",
    "\n",
    "**Examples:**\n",
    "\n",
    "    Input : ab aa aa bcd ab\n",
    "\n",
    "    Output : 3\n",
    "\n",
    "    *As aa, aa destroys each other so,*\n",
    "\n",
    "    *ab bcd ab is the new sequence.*\n",
    "\n",
    "    Input :  tom jerry jerry tom\n",
    "\n",
    "    Output : 0\n",
    "\n",
    "    *As first both jerry will destroy each other.*\n",
    "\n",
    "    *Then sequence will be tom, tom they will also destroy*\n",
    "\n",
    "    *each other. So, the final sequence doesn’t contain any*\n",
    "\n",
    "    *word.*\n",
    "\n",
    "    "
   ]
  },
  {
   "cell_type": "code",
   "execution_count": 14,
   "id": "7a82955b",
   "metadata": {},
   "outputs": [],
   "source": [
    "def count_remaining_words(sequence):\n",
    "    stack = []\n",
    "    for word in sequence:\n",
    "        if stack and stack[-1] == word:\n",
    "            stack.pop()\n",
    "        else:\n",
    "            stack.append(word)\n",
    "    return len(stack)"
   ]
  },
  {
   "cell_type": "code",
   "execution_count": 15,
   "id": "9ff149c0",
   "metadata": {},
   "outputs": [
    {
     "name": "stdout",
     "output_type": "stream",
     "text": [
      "3\n",
      "0\n"
     ]
    }
   ],
   "source": [
    "sequence1 = [\"ab\", \"aa\", \"aa\", \"bcd\", \"ab\"]\n",
    "print(count_remaining_words(sequence1))  \n",
    "\n",
    "sequence2 = [\"tom\", \"jerry\", \"jerry\", \"tom\"]\n",
    "print(count_remaining_words(sequence2)) "
   ]
  },
  {
   "cell_type": "markdown",
   "id": "f31d1c02",
   "metadata": {},
   "source": [
    "## Question 8\n",
    "\n",
    "Given an array of integers, the task is to find the maximum absolute difference between the nearest left and the right smaller element of every element in the array.\n",
    "\n",
    "**Note:** If there is no smaller element on right side or left side of any element then we take zero as the smaller element. For example for the leftmost element, the nearest smaller element on the left side is considered as 0. Similarly, for rightmost elements, the smaller element on the right side is considered as 0.\n",
    "\n",
    "    Input : arr[] = {2, 1, 8}\n",
    "    Output : 1\n",
    "    Left smaller  LS[] {0, 0, 1}\n",
    "    Right smaller RS[] {1, 0, 0}\n",
    "    Maximum Diff of abs(LS[i] - RS[i]) = 1\n",
    "\n",
    "    Input  : arr[] = {2, 4, 8, 7, 7, 9, 3}\n",
    "    Output : 4\n",
    "    Left smaller   LS[] = {0, 2, 4, 4, 4, 7, 2}\n",
    "    Right smaller  RS[] = {0, 3, 7, 3, 3, 3, 0}\n",
    "    Maximum Diff of abs(LS[i] - RS[i]) = 7 - 3 = 4\n",
    "\n",
    "    Input : arr[] = {5, 1, 9, 2, 5, 1, 7}\n",
    "    Output : 1"
   ]
  },
  {
   "cell_type": "code",
   "execution_count": 16,
   "id": "ff57cdb7",
   "metadata": {},
   "outputs": [],
   "source": [
    "def max_absolute_difference(arr):\n",
    "    n = len(arr)\n",
    "    left_smaller = [0] * n\n",
    "    right_smaller = [0] * n\n",
    "\n",
    "    stack = []\n",
    "    for i in range(n):\n",
    "        while stack and arr[stack[-1]] > arr[i]:\n",
    "            index = stack.pop()\n",
    "            right_smaller[index] = arr[i]\n",
    "        stack.append(i)\n",
    "\n",
    "    stack = []\n",
    "    for i in range(n - 1, -1, -1):\n",
    "        while stack and arr[stack[-1]] > arr[i]:\n",
    "            index = stack.pop()\n",
    "            left_smaller[index] = arr[i]\n",
    "        stack.append(i)\n",
    "\n",
    "    max_diff = 0\n",
    "    for i in range(n):\n",
    "        max_diff = max(max_diff, abs(left_smaller[i] - right_smaller[i]))\n",
    "\n",
    "    return max_diff"
   ]
  },
  {
   "cell_type": "code",
   "execution_count": 18,
   "id": "c20f1eb9",
   "metadata": {},
   "outputs": [
    {
     "name": "stdout",
     "output_type": "stream",
     "text": [
      "1\n",
      "4\n",
      "1\n"
     ]
    }
   ],
   "source": [
    "arr1 = [2, 1, 8]\n",
    "print(max_absolute_difference(arr1))  \n",
    "\n",
    "arr2 = [2, 4, 8, 7, 7, 9, 3]\n",
    "print(max_absolute_difference(arr2))  \n",
    "\n",
    "arr3 = [5, 1, 9, 2, 5, 1, 7]\n",
    "print(max_absolute_difference(arr3))  "
   ]
  },
  {
   "cell_type": "code",
   "execution_count": null,
   "id": "089370b0",
   "metadata": {},
   "outputs": [],
   "source": []
  }
 ],
 "metadata": {
  "kernelspec": {
   "display_name": "Python 3 (ipykernel)",
   "language": "python",
   "name": "python3"
  },
  "language_info": {
   "codemirror_mode": {
    "name": "ipython",
    "version": 3
   },
   "file_extension": ".py",
   "mimetype": "text/x-python",
   "name": "python",
   "nbconvert_exporter": "python",
   "pygments_lexer": "ipython3",
   "version": "3.9.7"
  }
 },
 "nbformat": 4,
 "nbformat_minor": 5
}
