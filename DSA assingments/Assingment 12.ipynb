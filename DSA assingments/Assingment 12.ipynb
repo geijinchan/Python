{
 "cells": [
  {
   "cell_type": "markdown",
   "id": "c580fa09",
   "metadata": {},
   "source": [
    "## Question 1\n",
    "\n",
    "Given a singly linked list, delete **middle** of the linked list. For example, if given linked list is 1->2->**3**->4->5 then linked list should be modified to 1->2->4->5.If there are **even** nodes, then there would be **two middle** nodes, we need to delete the second middle element. For example, if given linked list is 1->2->3->4->5->6 then it should be modified to 1->2->3->5->6.If the input linked list is NULL or has 1 node, then it should return NULL\n",
    "\n",
    "**Examples\n",
    "Input:\n",
    "LinkedList: 1->2->3->4->5\n",
    "Output:1 2 4 5\n",
    "\n",
    "Input:\n",
    "LinkedList: 2->4->6->7->5->1\n",
    "Output:2 4 6 5 1"
   ]
  },
  {
   "cell_type": "code",
   "execution_count": 119,
   "id": "91c9b4de",
   "metadata": {},
   "outputs": [],
   "source": [
    "class ListNode:\n",
    "    def __init__(self, val=0, next=None):\n",
    "        self.val = val\n",
    "        self.next = next\n",
    "\n",
    "def deleteMid(head):\n",
    "    if head is None or head.next is None:\n",
    "        return None\n",
    "    slow = head\n",
    "    fast = head\n",
    "    prev = None\n",
    "    while fast and fast.next:\n",
    "        fast = fast.next.next\n",
    "        prev = slow\n",
    "        slow = slow.next\n",
    "    prev.next = slow.next\n",
    "    return head"
   ]
  },
  {
   "cell_type": "code",
   "execution_count": 120,
   "id": "09180c7c",
   "metadata": {},
   "outputs": [
    {
     "name": "stdout",
     "output_type": "stream",
     "text": [
      "1 2 4 5 "
     ]
    }
   ],
   "source": [
    "head1 = ListNode(1)\n",
    "head1.next = ListNode(2)\n",
    "head1.next.next = ListNode(3)\n",
    "head1.next.next.next = ListNode(4)\n",
    "head1.next.next.next.next = ListNode(5)\n",
    "\n",
    "head1 = deleteMid(head1)\n",
    "while head1:\n",
    "    print(head1.val, end=\" \")\n",
    "    head1 = head1.next"
   ]
  },
  {
   "cell_type": "code",
   "execution_count": 121,
   "id": "f1ef8e21",
   "metadata": {},
   "outputs": [
    {
     "name": "stdout",
     "output_type": "stream",
     "text": [
      "2 4 6 5 1 "
     ]
    }
   ],
   "source": [
    "head2 = ListNode(2)\n",
    "head2.next = ListNode(4)\n",
    "head2.next.next = ListNode(6)\n",
    "head2.next.next.next = ListNode(7)\n",
    "head2.next.next.next.next = ListNode(5)\n",
    "head2.next.next.next.next.next = ListNode(1)\n",
    "\n",
    "head2 = deleteMid(head2)\n",
    "while head2:\n",
    "    print(head2.val, end=\" \")\n",
    "    head2 = head2.next"
   ]
  },
  {
   "cell_type": "markdown",
   "id": "0dbb8ddf",
   "metadata": {},
   "source": [
    "## Question 2\n",
    "\n",
    "Given a linked list of **N** nodes. The task is to check if the linked list has a loop. Linked list can contain self loop.\n",
    "\n",
    "Examples\n",
    "\n",
    "Input:\n",
    "N = 3\n",
    "value[] = {1,3,4}\n",
    "x(position at which tail is connected) = 2\n",
    "Output:True\n",
    "Explanation:In above test case N = 3.\n",
    "The linked list with nodes N = 3 is\n",
    "given. Then value of x=2 is given which\n",
    "means last node is connected with xth\n",
    "node of linked list. Therefore, there\n",
    "exists a loop.\n",
    "\n",
    "Input:\n",
    "N = 4\n",
    "value[] = {1,8,3,4}\n",
    "x = 0\n",
    "Output:False\n",
    "Explanation:For N = 4 ,x = 0 means\n",
    "then lastNode->next = NULL, then\n",
    "the Linked list does not contains\n",
    "any loop."
   ]
  },
  {
   "cell_type": "code",
   "execution_count": 122,
   "id": "c104c7ae",
   "metadata": {},
   "outputs": [],
   "source": [
    "class ListNode:\n",
    "    def __init__(self, val=0, next=None):\n",
    "        self.val = val\n",
    "        self.next = next\n",
    "\n",
    "def hasCycle(head):\n",
    "    slow = head\n",
    "    fast = head\n",
    "    while fast and fast.next:\n",
    "        slow = slow.next\n",
    "        fast = fast.next.next\n",
    "        if slow == fast:\n",
    "            return True\n",
    "    return False"
   ]
  },
  {
   "cell_type": "code",
   "execution_count": 123,
   "id": "124aab89",
   "metadata": {},
   "outputs": [
    {
     "name": "stdout",
     "output_type": "stream",
     "text": [
      "True\n"
     ]
    }
   ],
   "source": [
    "head1 = ListNode(1)\n",
    "head1.next = ListNode(2)\n",
    "head1.next.next = ListNode(3)\n",
    "head1.next.next.next = ListNode(4)\n",
    "head1.next.next.next.next = head1.next\n",
    "print(hasCycle(head1))  "
   ]
  },
  {
   "cell_type": "code",
   "execution_count": 124,
   "id": "638daa11",
   "metadata": {},
   "outputs": [
    {
     "name": "stdout",
     "output_type": "stream",
     "text": [
      "False\n"
     ]
    }
   ],
   "source": [
    "head2 = ListNode(1)\n",
    "head2.next = ListNode(2)\n",
    "head2.next.next = ListNode(3)\n",
    "head2.next.next.next = ListNode(4)\n",
    "print(hasCycle(head2))"
   ]
  },
  {
   "cell_type": "markdown",
   "id": "07279d42",
   "metadata": {},
   "source": [
    "## Question 3\n",
    "\n",
    "Given a linked list consisting of **L** nodes and given a number **N**. The task is to find the **N**th node from the end of the linked list.\n",
    "\n",
    "Examples\n",
    "Input:\n",
    "N = 2\n",
    "LinkedList: 1->2->3->4->5->6->7->8->9\n",
    "Output:8\n",
    "Explanation:In the first example, there\n",
    "are 9 nodes in linked list and we need\n",
    "to find 2nd node from end. 2nd node\n",
    "from end is 8.\n",
    "\n",
    "Input:\n",
    "N = 5\n",
    "LinkedList: 10->5->100->5\n",
    "Output:-1\n",
    "Explanation:In the second example, there\n",
    "are 4 nodes in the linked list and we\n",
    "need to find 5th from the end. Since 'n'\n",
    "is more than the number of nodes in the\n",
    "linked list, the output is -1."
   ]
  },
  {
   "cell_type": "code",
   "execution_count": 125,
   "id": "0ff1416d",
   "metadata": {},
   "outputs": [],
   "source": [
    "class ListNode:\n",
    "    def __init__(self, val=0, next=None):\n",
    "        self.val = val\n",
    "        self.next = next\n",
    "\n",
    "def nthFromEnd(head, n):\n",
    "    slow = head\n",
    "    fast = head\n",
    "    count = 0\n",
    "    while count < n:\n",
    "        fast = fast.next\n",
    "        count += 1\n",
    "    while fast:\n",
    "        slow = slow.next\n",
    "        fast = fast.next\n",
    "    if slow:\n",
    "        return slow.val\n",
    "    return -1"
   ]
  },
  {
   "cell_type": "code",
   "execution_count": 126,
   "id": "ba0ff59b",
   "metadata": {},
   "outputs": [
    {
     "name": "stdout",
     "output_type": "stream",
     "text": [
      "8\n"
     ]
    }
   ],
   "source": [
    "head1 = ListNode(1)\n",
    "head1.next = ListNode(2)\n",
    "head1.next.next = ListNode(3)\n",
    "head1.next.next.next = ListNode(4)\n",
    "head1.next.next.next.next = ListNode(5)\n",
    "head1.next.next.next.next.next = ListNode(6)\n",
    "head1.next.next.next.next.next.next = ListNode(7)\n",
    "head1.next.next.next.next.next.next.next = ListNode(8)\n",
    "head1.next.next.next.next.next.next.next.next = ListNode(9)\n",
    "\n",
    "print(nthFromEnd(head1, 2))"
   ]
  },
  {
   "cell_type": "markdown",
   "id": "bbe5080f",
   "metadata": {},
   "source": [
    "## Question 4\n",
    "Given a singly linked list of characters, write a function that returns true if the given list is a palindrome, else false.\n",
    "\n",
    "> nput: R->A->D->A->R->NULL\n",
    "> \n",
    "> \n",
    "> **Output:** Yes\n",
    "> \n",
    "> **Input:** C->O->D->E->NULL\n",
    "> \n",
    "> **Output:** No\n",
    ">"
   ]
  },
  {
   "cell_type": "code",
   "execution_count": 127,
   "id": "02db0f28",
   "metadata": {},
   "outputs": [],
   "source": [
    "class ListNode:\n",
    "    def __init__(self, val=0, next=None):\n",
    "        self.val = val\n",
    "        self.next = next\n",
    "\n",
    "def isPalindrome(head):\n",
    "    if head is None or head.next is None:\n",
    "        return True\n",
    "    slow = head\n",
    "    fast = head\n",
    "    while fast and fast.next:\n",
    "        slow = slow.next\n",
    "        fast = fast.next.next\n",
    "    prev = None\n",
    "    while slow:\n",
    "        next_node = slow.next\n",
    "        slow.next = prev\n",
    "        prev = slow\n",
    "        slow = next_node\n",
    "    while prev:\n",
    "        if prev.val != head.val:\n",
    "            return False\n",
    "        prev = prev.next\n",
    "        head = head.next\n",
    "    return True"
   ]
  },
  {
   "cell_type": "code",
   "execution_count": 128,
   "id": "25cc1a91",
   "metadata": {},
   "outputs": [
    {
     "name": "stdout",
     "output_type": "stream",
     "text": [
      "True\n"
     ]
    }
   ],
   "source": [
    "head1 = ListNode(\"R\")\n",
    "head1.next = ListNode(\"A\")\n",
    "head1.next.next = ListNode(\"D\")\n",
    "head1.next.next.next = ListNode(\"A\")\n",
    "head1.next.next.next.next = ListNode(\"R\")\n",
    "\n",
    "print(isPalindrome(head1))"
   ]
  },
  {
   "cell_type": "code",
   "execution_count": 129,
   "id": "06ace287",
   "metadata": {},
   "outputs": [
    {
     "name": "stdout",
     "output_type": "stream",
     "text": [
      "False\n"
     ]
    }
   ],
   "source": [
    "head2 = ListNode(\"C\")\n",
    "head2.next = ListNode(\"O\")\n",
    "head2.next.next = ListNode(\"D\")\n",
    "head2.next.next.next = ListNode(\"E\")\n",
    "\n",
    "print(isPalindrome(head2)) "
   ]
  },
  {
   "cell_type": "markdown",
   "id": "8abd4b5d",
   "metadata": {},
   "source": [
    "## Question 5\n",
    "\n",
    "Given a linked list of **N** nodes such that it may contain a loop.\n",
    "\n",
    "A loop here means that the last node of the link list is connected to the node at position X(1-based index). If the link list does not have any loop, X=0.\n",
    "\n",
    "Remove the loop from the linked list, if it is present, i.e. unlink the last node which is forming the loop.\n",
    "\n",
    "Examples\n",
    "    Input:\n",
    "    N = 3\n",
    "    value[] = {1,3,4}\n",
    "    X = 2\n",
    "    Output:1\n",
    "    Explanation:The link list looks like\n",
    "    1 -> 3 -> 4\n",
    "         ^    |\n",
    "         |____|\n",
    "    A loop is present. If you remove it\n",
    "    successfully, the answer will be 1.\n",
    "\n",
    "    Input:\n",
    "    N = 4\n",
    "    value[] = {1,8,3,4}\n",
    "    X = 0\n",
    "    Output:1\n",
    "    Explanation:The Linked list does not\n",
    "    contains any loop.\n",
    "\n",
    "    Input:\n",
    "    N = 4\n",
    "    value[] = {1,2,3,4}\n",
    "    X = 1\n",
    "    Output:1\n",
    "    Explanation:The link list looks like\n",
    "    1 -> 2 -> 3 -> 4\n",
    "    ^              |\n",
    "    |______________|\n",
    "    A loop is present.\n",
    "    If you remove it successfully,\n",
    "    the answer will be 1."
   ]
  },
  {
   "cell_type": "code",
   "execution_count": 130,
   "id": "674d1548",
   "metadata": {},
   "outputs": [],
   "source": [
    "class ListNode:\n",
    "    def __init__(self, val=0, next=None):\n",
    "        self.val = val\n",
    "        self.next = next\n",
    "\n",
    "def detectAndRemoveLoop(head):\n",
    "    if head is None or head.next is None:\n",
    "        return\n",
    "    slow = head\n",
    "    fast = head\n",
    "    while fast and fast.next:\n",
    "        slow = slow.next\n",
    "        fast = fast.next.next\n",
    "        if slow == fast:\n",
    "            break\n",
    "    if slow != fast:\n",
    "        return\n",
    "    slow = head\n",
    "    while slow.next != fast.next:\n",
    "        slow = slow.next\n",
    "        fast = fast.next\n",
    "    fast.next = None"
   ]
  },
  {
   "cell_type": "code",
   "execution_count": 131,
   "id": "82a5636f",
   "metadata": {},
   "outputs": [
    {
     "name": "stdout",
     "output_type": "stream",
     "text": [
      "1 3 4 "
     ]
    }
   ],
   "source": [
    "head1 = ListNode(1)\n",
    "head1.next = ListNode(3)\n",
    "head1.next.next = ListNode(4)\n",
    "head1.next.next.next = head1.next\n",
    "\n",
    "detectAndRemoveLoop(head1)\n",
    "\n",
    "while head1:\n",
    "    print(head1.val, end=\" \")\n",
    "    head1 = head1.next"
   ]
  },
  {
   "cell_type": "markdown",
   "id": "e23c7a39",
   "metadata": {},
   "source": [
    "## Question 6\n",
    "Given a linked list and two integers M and N. Traverse the linked list such that you retain M nodes then delete next N nodes, continue the same till end of the linked list.\n",
    "\n",
    "Difficulty Level: Rookie\n",
    "    Examples\n",
    "\n",
    "    Input:\n",
    "    M = 2, N = 2\n",
    "    Linked List: 1->2->3->4->5->6->7->8\n",
    "    Output:\n",
    "    Linked List: 1->2->5->6\n",
    "\n",
    "    Input:\n",
    "    M = 3, N = 2\n",
    "    Linked List: 1->2->3->4->5->6->7->8->9->10\n",
    "    Output:\n",
    "    Linked List: 1->2->3->6->7->8\n",
    "\n",
    "    Input:\n",
    "    M = 1, N = 1\n",
    "    Linked List: 1->2->3->4->5->6->7->8->9->10\n",
    "    Output:\n",
    "    Linked List: 1->3->5->7->9"
   ]
  },
  {
   "cell_type": "code",
   "execution_count": 132,
   "id": "c7049065",
   "metadata": {},
   "outputs": [],
   "source": [
    "class ListNode:\n",
    "    def __init__(self, val=0, next=None):\n",
    "        self.val = val\n",
    "        self.next = next\n",
    "\n",
    "def modifyLinkedList(head, M, N):\n",
    "    if M == 0:\n",
    "        return None\n",
    "    current = head\n",
    "    prev = None\n",
    "    while current:\n",
    "        for _ in range(M - 1):\n",
    "            if current is None:\n",
    "                return head\n",
    "            current = current.next\n",
    "        if current is None:\n",
    "            return head\n",
    "        prev = current\n",
    "        for _ in range(N):\n",
    "            if current is None:\n",
    "                break\n",
    "            current = current.next\n",
    "            if prev:\n",
    "                prev.next = current\n",
    "            else:\n",
    "                head = current\n",
    "            for _ in range(N):\n",
    "                if current is None:\n",
    "                    break\n",
    "                current = current.next\n",
    "        return head"
   ]
  },
  {
   "cell_type": "code",
   "execution_count": 133,
   "id": "dbb7d2a3",
   "metadata": {},
   "outputs": [
    {
     "name": "stdout",
     "output_type": "stream",
     "text": [
      "1 2 6 7 8 "
     ]
    }
   ],
   "source": [
    "head1 = ListNode(1)\n",
    "head1.next = ListNode(2)\n",
    "head1.next.next = ListNode(3)\n",
    "head1.next.next.next = ListNode(4)\n",
    "head1.next.next.next.next = ListNode(5)\n",
    "head1.next.next.next.next.next = ListNode(6)\n",
    "head1.next.next.next.next.next.next = ListNode(7)\n",
    "head1.next.next.next.next.next.next.next = ListNode(8)\n",
    "\n",
    "head1 = modifyLinkedList(head1, 2, 2)\n",
    "while head1:\n",
    "    print(head1.val, end=\" \")\n",
    "    head1 = head1.next"
   ]
  },
  {
   "cell_type": "code",
   "execution_count": 134,
   "id": "75f52141",
   "metadata": {},
   "outputs": [
    {
     "name": "stdout",
     "output_type": "stream",
     "text": [
      "1 2 3 7 8 9 10 "
     ]
    }
   ],
   "source": [
    "head2 = ListNode(1)\n",
    "head2.next = ListNode(2)\n",
    "head2.next.next = ListNode(3)\n",
    "head2.next.next.next = ListNode(4)\n",
    "head2.next.next.next.next = ListNode(5)\n",
    "head2.next.next.next.next.next = ListNode(6)\n",
    "head2.next.next.next.next.next.next = ListNode(7)\n",
    "head2.next.next.next.next.next.next.next = ListNode(8)\n",
    "head2.next.next.next.next.next.next.next.next = ListNode(9)\n",
    "head2.next.next.next.next.next.next.next.next.next = ListNode(10)\n",
    "\n",
    "head2 = modifyLinkedList(head2, 3, 2)\n",
    "while head2:\n",
    "    print(head2.val, end=\" \")\n",
    "    head2 = head2.next"
   ]
  },
  {
   "cell_type": "markdown",
   "id": "649bef2e",
   "metadata": {},
   "source": [
    "## Question 7\n",
    "\n",
    "Given two linked lists, insert nodes of second list into first list at alternate positions of first list.\n",
    "For example, if first list is 5->7->17->13->11 and second is 12->10->2->4->6, the first list should become 5->12->7->10->17->2->13->4->11->6 and second list should become empty. The nodes of second list should only be inserted when there are positions available. For example, if the first list is 1->2->3 and second list is 4->5->6->7->8, then first list should become 1->4->2->5->3->6 and second list to 7->8.\n",
    "\n",
    "Use of extra space is not allowed (Not allowed to create additional nodes), i.e., insertion must be done in-place. Expected time complexity is O(n) where n is number of nodes in first list.\n",
    "\n",
    "</aside>"
   ]
  },
  {
   "cell_type": "code",
   "execution_count": 135,
   "id": "69cf0705",
   "metadata": {},
   "outputs": [
    {
     "name": "stdout",
     "output_type": "stream",
     "text": [
      "5 12 7 10 17 2 13 4 11 6 "
     ]
    }
   ],
   "source": [
    "class ListNode:\n",
    "    def __init__(self, val=0, next=None):\n",
    "        self.val = val\n",
    "        self.next = next\n",
    "\n",
    "def insertAtAlternate(head1, head2):\n",
    "    if head1 is None:\n",
    "        return head2\n",
    "    if head2 is None:\n",
    "        return head1\n",
    "    current1 = head1\n",
    "    current2 = head2\n",
    "    while current1 and current2:\n",
    "        next1 = current1.next\n",
    "        next2 = current2.next\n",
    "        current2.next = next1\n",
    "        current1.next = current2\n",
    "        current1 = next1\n",
    "        current2 = next2\n",
    "    return head1\n",
    "\n",
    "head1 = ListNode(5)\n",
    "head1.next = ListNode(7)\n",
    "head1.next.next = ListNode(17)\n",
    "head1.next.next.next = ListNode(13)\n",
    "head1.next.next.next.next = ListNode(11)\n",
    "\n",
    "head2 = ListNode(12)\n",
    "head2.next = ListNode(10)\n",
    "head2.next.next = ListNode(2)\n",
    "head2.next.next.next = ListNode(4)\n",
    "head2.next.next.next.next = ListNode(6)\n",
    "\n",
    "head1 = insertAtAlternate(head1, head2)\n",
    "\n",
    "while head1:\n",
    "    print(head1.val, end=\" \")\n",
    "    head1 = head1.next"
   ]
  },
  {
   "cell_type": "code",
   "execution_count": null,
   "id": "c117cd89",
   "metadata": {},
   "outputs": [],
   "source": []
  }
 ],
 "metadata": {
  "kernelspec": {
   "display_name": "Python 3 (ipykernel)",
   "language": "python",
   "name": "python3"
  },
  "language_info": {
   "codemirror_mode": {
    "name": "ipython",
    "version": 3
   },
   "file_extension": ".py",
   "mimetype": "text/x-python",
   "name": "python",
   "nbconvert_exporter": "python",
   "pygments_lexer": "ipython3",
   "version": "3.9.7"
  }
 },
 "nbformat": 4,
 "nbformat_minor": 5
}
