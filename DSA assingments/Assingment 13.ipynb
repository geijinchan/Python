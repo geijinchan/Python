{
 "cells": [
  {
   "cell_type": "markdown",
   "id": "a79e3aa9",
   "metadata": {},
   "source": [
    "## Question 1\n",
    "\n",
    "Given two linked list of the same size, the task is to create a new linked list using those linked lists. The condition is that the greater node among both linked list will be added to the new linked list.\n",
    "\n",
    "**Examples:**\n",
    "\n",
    "Input: list1 = 5->2->3->8\n",
    "list2 = 1->7->4->5\n",
    "Output: New list = 5->7->4->8\n",
    "\n",
    "Input:list1 = 2->8->9->3\n",
    "list2 = 5->3->6->4\n",
    "Output: New list = 5->8->9->4"
   ]
  },
  {
   "cell_type": "code",
   "execution_count": 111,
   "id": "5dd82055",
   "metadata": {},
   "outputs": [],
   "source": [
    "class ListNode:\n",
    "    def __init__(self, val=0, next=None):\n",
    "        self.val = val\n",
    "        self.next = next\n",
    "\n",
    "def mergeLinkedLists(list1, list2):\n",
    "    if list1 is None:\n",
    "        return list2\n",
    "    if list2 is None:\n",
    "        return list1\n",
    "    head = None\n",
    "    tail = None\n",
    "    while list1 and list2:\n",
    "        if list1.val > list2.val:\n",
    "            new_node = ListNode(list1.val)\n",
    "            list1 = list1.next\n",
    "        else:\n",
    "            new_node = ListNode(list2.val)\n",
    "            list2 = list2.next\n",
    "        if head is None:\n",
    "            head = new_node\n",
    "            tail = new_node\n",
    "        else:\n",
    "            tail.next = new_node\n",
    "            tail = tail.next\n",
    "    if list1:\n",
    "        tail.next = list1\n",
    "    if list2:\n",
    "        tail.next = list2\n",
    "    return head"
   ]
  },
  {
   "cell_type": "code",
   "execution_count": 112,
   "id": "1e52d98c",
   "metadata": {},
   "outputs": [
    {
     "name": "stdout",
     "output_type": "stream",
     "text": [
      "5 2 3 8 1 7 4 5 "
     ]
    }
   ],
   "source": [
    "list1 = ListNode(5)\n",
    "list1.next = ListNode(2)\n",
    "list1.next.next = ListNode(3)\n",
    "list1.next.next.next = ListNode(8)\n",
    "\n",
    "list2 = ListNode(1)\n",
    "list2.next = ListNode(7)\n",
    "list2.next.next = ListNode(4)\n",
    "list2.next.next.next = ListNode(5)\n",
    "\n",
    "merged_list = mergeLinkedLists(list1, list2)\n",
    "while merged_list:\n",
    "    print(merged_list.val, end=\" \")\n",
    "    merged_list = merged_list.next"
   ]
  },
  {
   "cell_type": "markdown",
   "id": "af655264",
   "metadata": {},
   "source": [
    "## Question 2\n",
    "\n",
    "Write a function that takes a list sorted in non-decreasing order and deletes any duplicate nodes from the list. The list should only be traversed once.\n",
    "\n",
    "For example if the linked list is 11->11->11->21->43->43->60 then removeDuplicates() should convert the list to 11->21->43->60.\n",
    "\n",
    "Examples\n",
    "\n",
    "    Input:\n",
    "    LinkedList: \n",
    "    11->11->11->21->43->43->60\n",
    "    Output:\n",
    "    11->21->43->60\n",
    "\n",
    "    Input:\n",
    "    LinkedList: \n",
    "    10->12->12->25->25->25->34\n",
    "    Output:\n",
    "    10->12->25->34"
   ]
  },
  {
   "cell_type": "code",
   "execution_count": 113,
   "id": "650f5fdb",
   "metadata": {},
   "outputs": [],
   "source": [
    "class ListNode:\n",
    "    def __init__(self, val=0, next=None):\n",
    "        self.val = val\n",
    "        self.next = next\n",
    "\n",
    "def removeDuplicates(head):\n",
    "    if head is None or head.next is None:\n",
    "        return head\n",
    "    current = head\n",
    "    while current.next:\n",
    "        if current.val == current.next.val:\n",
    "            current.next = current.next.next\n",
    "        else:\n",
    "            current = current.next\n",
    "    return head"
   ]
  },
  {
   "cell_type": "code",
   "execution_count": 114,
   "id": "1c177072",
   "metadata": {},
   "outputs": [
    {
     "name": "stdout",
     "output_type": "stream",
     "text": [
      "11 21 43 60 "
     ]
    }
   ],
   "source": [
    "head1 = ListNode(11)\n",
    "head1.next = ListNode(11)\n",
    "head1.next.next = ListNode(11)\n",
    "head1.next.next.next = ListNode(21)\n",
    "head1.next.next.next.next = ListNode(43)\n",
    "head1.next.next.next.next.next = ListNode(43)\n",
    "head1.next.next.next.next.next.next = ListNode(60)\n",
    "\n",
    "head1 = removeDuplicates(head1)\n",
    "while head1:\n",
    "    print(head1.val, end=\" \")\n",
    "    head1 = head1.next"
   ]
  },
  {
   "cell_type": "markdown",
   "id": "fdba595b",
   "metadata": {},
   "source": [
    "## Question 3\n",
    "Given a linked list of size N. The task is to reverse every k nodes (where k is an input to the function) in the linked list. If the number of nodes is not a multiple of k then left-out nodes, in the end, should be considered as a group and must be reversed (See Example 2 for clarification).\n",
    "Examples\n",
    "\n",
    "    Input:\n",
    "    LinkedList: 1->2->2->4->5->6->7->8\n",
    "    K = 4\n",
    "    Output:4 2 2 1 8 7 6 5\n",
    "    Explanation:\n",
    "    The first 4 elements 1,2,2,4 are reversed first\n",
    "    and then the next 4 elements 5,6,7,8. Hence, the\n",
    "    resultant linked list is 4->2->2->1->8->7->6->5.\n",
    "\n",
    "    Input:\n",
    "    LinkedList: 1->2->3->4->5\n",
    "    K = 3\n",
    "    Output:3 2 1 5 4\n",
    "    Explanation:\n",
    "    The first 3 elements are 1,2,3 are reversed\n",
    "    first and then elements 4,5 are reversed.Hence,\n",
    "    the resultant linked list is 3->2->1->5->4."
   ]
  },
  {
   "cell_type": "code",
   "execution_count": 115,
   "id": "2f9f8894",
   "metadata": {},
   "outputs": [],
   "source": [
    "class ListNode:\n",
    "    def __init__(self, val=0, next=None):\n",
    "        self.val = val\n",
    "        self.next = next\n",
    "\n",
    "def reverseKNodes(head, k):\n",
    "    if head is None or k == 0 or k == 1:\n",
    "        return head\n",
    "    current = head\n",
    "    prev = None\n",
    "    next = None\n",
    "    count = 0\n",
    "    while current and count < k:\n",
    "        next = current.next\n",
    "        current.next = prev\n",
    "        prev = current\n",
    "        current = next\n",
    "        count += 1\n",
    "    if next:\n",
    "        head.next = reverseKNodes(next, k)\n",
    "    return prev"
   ]
  },
  {
   "cell_type": "code",
   "execution_count": 116,
   "id": "2e32b09a",
   "metadata": {},
   "outputs": [
    {
     "name": "stdout",
     "output_type": "stream",
     "text": [
      "4 2 2 1 8 7 6 5 "
     ]
    }
   ],
   "source": [
    "head1 = ListNode(1)\n",
    "head1.next = ListNode(2)\n",
    "head1.next.next = ListNode(2)\n",
    "head1.next.next.next = ListNode(4)\n",
    "head1.next.next.next.next = ListNode(5)\n",
    "head1.next.next.next.next.next = ListNode(6)\n",
    "head1.next.next.next.next.next.next = ListNode(7)\n",
    "head1.next.next.next.next.next.next.next = ListNode(8)\n",
    "\n",
    "head1 = reverseKNodes(head1, 4)\n",
    "while head1:\n",
    "    print(head1.val, end=\" \")\n",
    "    head1 = head1.next"
   ]
  },
  {
   "cell_type": "markdown",
   "id": "2c172b4c",
   "metadata": {},
   "source": [
    "## Question 4\n",
    "\n",
    "Given a linked list, write a function to reverse every alternate k nodes (where k is an input to the function) in an efficient way. Give the complexity of your algorithm.\n",
    "\n",
    "Example:\n",
    "Inputs:   1->2->3->4->5->6->7->8->9->NULL and k = 3\n",
    "Output:   3->2->1->4->5->6->9->8->7->NULL."
   ]
  },
  {
   "cell_type": "code",
   "execution_count": 117,
   "id": "887462ba",
   "metadata": {},
   "outputs": [],
   "source": [
    "class ListNode:\n",
    "    def __init__(self, val=0, next=None):\n",
    "        self.val = val\n",
    "        self.next = next\n",
    "\n",
    "def reverseAlternateKNodes(head, k):\n",
    "    if head is None or k == 0 or k == 1:\n",
    "        return head\n",
    "    current = head\n",
    "    prev = None\n",
    "    next = None\n",
    "    count = 0\n",
    "    while current and count < k:\n",
    "        next = current.next\n",
    "        if count % 2 == 1:\n",
    "            current.next = prev\n",
    "        prev = current\n",
    "        current = next\n",
    "        count += 1\n",
    "    if count % 2 == 1:\n",
    "        head.next = reverseAlternateKNodes(next, k)\n",
    "    else:\n",
    "        head.next = next\n",
    "    return prev"
   ]
  },
  {
   "cell_type": "code",
   "execution_count": 118,
   "id": "db92ed02",
   "metadata": {},
   "outputs": [
    {
     "name": "stdout",
     "output_type": "stream",
     "text": [
      "3 4 9 10 "
     ]
    }
   ],
   "source": [
    "head = ListNode(1)\n",
    "head.next = ListNode(2)\n",
    "head.next.next = ListNode(3)\n",
    "head.next.next.next = ListNode(4)\n",
    "head.next.next.next.next = ListNode(5)\n",
    "head.next.next.next.next.next = ListNode(6)\n",
    "head.next.next.next.next.next.next = ListNode(7)\n",
    "head.next.next.next.next.next.next.next = ListNode(8)\n",
    "head.next.next.next.next.next.next.next.next = ListNode(9)\n",
    "head.next.next.next.next.next.next.next.next.next = ListNode(10)\n",
    "\n",
    "head = reverseAlternateKNodes(head, 3)\n",
    "while head:\n",
    "    print(head.val, end=\" \")\n",
    "    head = head.next"
   ]
  },
  {
   "cell_type": "markdown",
   "id": "68efc884",
   "metadata": {},
   "source": [
    "## Question 5\n",
    "Given a linked list and a key to be deleted. Delete last occurrence of key from linked. The list may have duplicates.\n",
    "Examples\n",
    "\n",
    "Input:   1->2->3->5->2->10, key = 2\n",
    "Output:  1->2->3->5->10"
   ]
  },
  {
   "cell_type": "code",
   "execution_count": 119,
   "id": "a3e96fd9",
   "metadata": {},
   "outputs": [],
   "source": [
    "class ListNode:\n",
    "    def __init__(self, val=0, next=None):\n",
    "        self.val = val\n",
    "        self.next = next\n",
    "\n",
    "def deleteLastOccurrence(head, key):\n",
    "    if head is None:\n",
    "        return head\n",
    "    last_occurrence = None\n",
    "    current = head\n",
    "    while current:\n",
    "        if current.val == key:\n",
    "            last_occurrence = current\n",
    "        current = current.next\n",
    "    if last_occurrence is None:\n",
    "        return head\n",
    "    if last_occurrence == head:\n",
    "        return head.next\n",
    "    prev = head\n",
    "    while prev.next != last_occurrence:\n",
    "        prev = prev.next\n",
    "    prev.next = last_occurrence.next\n",
    "    return head"
   ]
  },
  {
   "cell_type": "code",
   "execution_count": 120,
   "id": "a5f4a85d",
   "metadata": {},
   "outputs": [
    {
     "name": "stdout",
     "output_type": "stream",
     "text": [
      "1 2 3 5 10 "
     ]
    }
   ],
   "source": [
    "head = ListNode(1)\n",
    "head.next = ListNode(2)\n",
    "head.next.next = ListNode(3)\n",
    "head.next.next.next = ListNode(5)\n",
    "head.next.next.next.next = ListNode(2)\n",
    "head.next.next.next.next.next = ListNode(10)\n",
    "\n",
    "head = deleteLastOccurrence(head, 2)\n",
    "while head:\n",
    "    print(head.val, end=\" \")\n",
    "    head = head.next"
   ]
  },
  {
   "cell_type": "markdown",
   "id": "8756ca2a",
   "metadata": {},
   "source": [
    "## Question 6\n",
    "Given two sorted linked lists consisting of **N** and **M** nodes respectively. The task is to merge both of the lists (in place) and return the head of the merged list.\n",
    "\n",
    "**Examples:**\n",
    "\n",
    "Input: a: 5->10->15, b: 2->3->20\n",
    "\n",
    "Output: 2->3->5->10->15->20\n",
    "\n",
    "Input: a: 1->1, b: 2->4\n",
    "\n",
    "Output: 1->1->2->4"
   ]
  },
  {
   "cell_type": "code",
   "execution_count": 121,
   "id": "9d24c358",
   "metadata": {},
   "outputs": [],
   "source": [
    "class ListNode:\n",
    "    def __init__(self, val=0, next=None):\n",
    "        self.val = val\n",
    "        self.next = next\n",
    "\n",
    "def mergeTwoLists(l1, l2):\n",
    "    if l1 is None:\n",
    "        return l2\n",
    "    if l2 is None:\n",
    "        return l1\n",
    "    if l1.val < l2.val:\n",
    "        head = l1\n",
    "        l1 = l1.next\n",
    "    else:\n",
    "        head = l2\n",
    "        l2 = l2.next\n",
    "    current = head\n",
    "    while l1 and l2:\n",
    "        if l1.val < l2.val:\n",
    "            current.next = l1\n",
    "            l1 = l1.next\n",
    "        else:\n",
    "            current.next = l2\n",
    "            l2 = l2.next\n",
    "        current = current.next\n",
    "    if l1:\n",
    "        current.next = l1\n",
    "    if l2:\n",
    "        current.next = l2\n",
    "    return head"
   ]
  },
  {
   "cell_type": "code",
   "execution_count": 122,
   "id": "b7e7c7b4",
   "metadata": {},
   "outputs": [
    {
     "name": "stdout",
     "output_type": "stream",
     "text": [
      "2 3 5 10 15 20 "
     ]
    }
   ],
   "source": [
    "list1 = ListNode(5)\n",
    "list1.next = ListNode(10)\n",
    "list1.next.next = ListNode(15)\n",
    "\n",
    "list2 = ListNode(2)\n",
    "list2.next = ListNode(3)\n",
    "list2.next.next = ListNode(20)\n",
    "\n",
    "merged_list = mergeTwoLists(list1, list2)\n",
    "while merged_list:\n",
    "    print(merged_list.val, end=\" \")\n",
    "    merged_list = merged_list.next"
   ]
  },
  {
   "cell_type": "markdown",
   "id": "c1b66278",
   "metadata": {},
   "source": [
    "## Question 7\n",
    "Given a **Doubly Linked List**, the task is to reverse the given Doubly Linked List.\n",
    "\n",
    "**Example\n",
    "Original Linked list 10 8 4 2\n",
    "Reversed Linked list 2 4 8 10"
   ]
  },
  {
   "cell_type": "code",
   "execution_count": 123,
   "id": "33e6dac1",
   "metadata": {},
   "outputs": [],
   "source": [
    "class Node:\n",
    "    def __init__(self, data=None):\n",
    "        self.data = data\n",
    "        self.next = None\n",
    "        self.prev = None\n",
    "\n",
    "def reverseDoublyLinkedList(head):\n",
    "    if head is None or head.next is None:\n",
    "        return head\n",
    "    current = head\n",
    "    prev = None\n",
    "    while current:\n",
    "        next = current.next\n",
    "        current.next = prev\n",
    "        current.prev = next\n",
    "        prev = current\n",
    "        current = next\n",
    "    return prev"
   ]
  },
  {
   "cell_type": "code",
   "execution_count": 124,
   "id": "5e617df2",
   "metadata": {},
   "outputs": [
    {
     "name": "stdout",
     "output_type": "stream",
     "text": [
      "2 4 8 10 "
     ]
    }
   ],
   "source": [
    "head = Node(10)\n",
    "head.next = Node(8)\n",
    "head.next.prev = head\n",
    "head.next.next = Node(4)\n",
    "head.next.next.prev = head.next\n",
    "head.next.next.next = Node(2)\n",
    "head.next.next.next.prev = head.next.next\n",
    "\n",
    "reversed_head = reverseDoublyLinkedList(head)\n",
    "current = reversed_head\n",
    "while current:\n",
    "    print(current.data, end=\" \")\n",
    "    current = current.next"
   ]
  },
  {
   "cell_type": "markdown",
   "id": "c857a6d3",
   "metadata": {},
   "source": [
    "## Question 8\n",
    "\n",
    "Given a doubly linked list and a position. The task is to delete a node from given position in a doubly linked list.\n",
    "\n",
    "Examples\n",
    "    Input:\n",
    "    LinkedList = 1 <--> 3 <--> 4\n",
    "    x = 3\n",
    "    Output:1 3\n",
    "    Explanation:After deleting the node at\n",
    "    position 3 (position starts from 1),\n",
    "    the linked list will be now as 1->3.\n",
    "\n",
    "    Input:\n",
    "    LinkedList = 1 <--> 5 <--> 2 <--> 9\n",
    "    x = 1\n",
    "    Output:5 2 9"
   ]
  },
  {
   "cell_type": "code",
   "execution_count": 125,
   "id": "18654113",
   "metadata": {},
   "outputs": [],
   "source": [
    "class Node:\n",
    "    def __init__(self, data=None):\n",
    "        self.data = data\n",
    "        self.next = None\n",
    "        self.prev = None\n",
    "\n",
    "def deleteNodeAtPosition(head, position):\n",
    "    if head is None:\n",
    "        return head\n",
    "    if position == 1:\n",
    "        if head.next:\n",
    "            head.next.prev = None\n",
    "        return head.next\n",
    "    current = head\n",
    "    count = 1\n",
    "    while current and count < position:\n",
    "        current = current.next\n",
    "        count += 1\n",
    "    if current:\n",
    "        current.prev.next = current.next\n",
    "        if current.next:\n",
    "            current.next.prev = current.prev\n",
    "    return head"
   ]
  },
  {
   "cell_type": "code",
   "execution_count": 126,
   "id": "b0237f3c",
   "metadata": {},
   "outputs": [
    {
     "name": "stdout",
     "output_type": "stream",
     "text": [
      "1 3 5 "
     ]
    }
   ],
   "source": [
    "head1 = Node(1)\n",
    "head1.next = Node(3)\n",
    "head1.next.prev = head1\n",
    "head1.next.next = Node(4)\n",
    "head1.next.next.prev = head1.next\n",
    "head1.next.next.next = Node(5)\n",
    "head1.next.next.next.prev = head1.next.next\n",
    "\n",
    "head1 = deleteNodeAtPosition(head1, 3)\n",
    "current1 = head1\n",
    "while current1:\n",
    "    print(current1.data, end=\" \")\n",
    "    current1 = current1.next"
   ]
  },
  {
   "cell_type": "code",
   "execution_count": null,
   "id": "6c3443de",
   "metadata": {},
   "outputs": [],
   "source": []
  },
  {
   "cell_type": "code",
   "execution_count": null,
   "id": "11d49084",
   "metadata": {},
   "outputs": [],
   "source": []
  },
  {
   "cell_type": "code",
   "execution_count": null,
   "id": "e2a468d5",
   "metadata": {},
   "outputs": [],
   "source": []
  },
  {
   "cell_type": "code",
   "execution_count": null,
   "id": "a8482c40",
   "metadata": {},
   "outputs": [],
   "source": []
  }
 ],
 "metadata": {
  "kernelspec": {
   "display_name": "Python 3 (ipykernel)",
   "language": "python",
   "name": "python3"
  },
  "language_info": {
   "codemirror_mode": {
    "name": "ipython",
    "version": 3
   },
   "file_extension": ".py",
   "mimetype": "text/x-python",
   "name": "python",
   "nbconvert_exporter": "python",
   "pygments_lexer": "ipython3",
   "version": "3.9.7"
  }
 },
 "nbformat": 4,
 "nbformat_minor": 5
}
