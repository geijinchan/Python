{
 "cells": [
  {
   "cell_type": "markdown",
   "id": "09458c9a",
   "metadata": {},
   "source": [
    "## Question 1\n",
    "\n",
    "Given a string `s`, *find the first non-repeating character in it and return its index*. If it does not exist, return `-1`.\n",
    "\n",
    "Examples\n",
    "\n",
    "    Input: s = \"leetcode\"\n",
    "    Output: 0\n",
    "\n",
    "    Input: s = \"loveleetcode\"\n",
    "    Output: 2\n",
    "\n",
    "    Input: s = \"aabb\"\n",
    "    Output: -1"
   ]
  },
  {
   "cell_type": "code",
   "execution_count": 97,
   "id": "8889efb3",
   "metadata": {},
   "outputs": [],
   "source": [
    "def first_non_repeating_character(s):\n",
    "    freq = {}\n",
    "    for char in s:\n",
    "        freq[char] = freq.get(char, 0) + 1\n",
    "\n",
    "    for i in range(len(s)):\n",
    "        if freq[s[i]] == 1:\n",
    "            return i\n",
    "\n",
    "    return -1\n"
   ]
  },
  {
   "cell_type": "code",
   "execution_count": 98,
   "id": "9df1ca53",
   "metadata": {},
   "outputs": [
    {
     "name": "stdout",
     "output_type": "stream",
     "text": [
      "0\n",
      "2\n",
      "-1\n"
     ]
    }
   ],
   "source": [
    "s1 = \"leetcode\"\n",
    "print(first_non_repeating_character(s1))  \n",
    "\n",
    "s2 = \"loveleetcode\"\n",
    "print(first_non_repeating_character(s2))  \n",
    "\n",
    "s3 = \"aabb\"\n",
    "print(first_non_repeating_character(s3))  "
   ]
  },
  {
   "cell_type": "markdown",
   "id": "44a29e0a",
   "metadata": {},
   "source": [
    "## Question 2\n",
    "\n",
    "Given a **circular integer array** `nums` of length `n`, return *the maximum possible sum of a non-empty **subarray** of* `nums`.\n",
    "\n",
    "A **circular array** means the end of the array connects to the beginning of the array. Formally, the next element of `nums[i]` is `nums[(i + 1) % n]` and the previous element of `nums[i]` is `nums[(i - 1 + n) % n]`.\n",
    "\n",
    "A **subarray** may only include each element of the fixed buffer `nums` at most once. Formally, for a subarray `nums[i], nums[i + 1], ..., nums[j]`, there does not exist `i <= k1`, `k2 <= j` with `k1 % n == k2 % n`.\n",
    "\n",
    "Examples\n",
    "\n",
    "    Input: nums = [1,-2,3,-2]\n",
    "    Output: 3\n",
    "    Explanation: Subarray [3] has maximum sum 3.\n",
    "\n",
    "    Input: nums = [5,-3,5]\n",
    "    Output: 10\n",
    "    Explanation: Subarray [5,5] has maximum sum 5 + 5 = 10.\n",
    "\n",
    "    Input: nums = [-3,-2,-3]\n",
    "    Output: -2\n",
    "    Explanation: Subarray [-2] has maximum sum -2."
   ]
  },
  {
   "cell_type": "code",
   "execution_count": 99,
   "id": "0ddac0d9",
   "metadata": {},
   "outputs": [],
   "source": [
    "def max_subarray_sum_circular(nums):\n",
    "    total_sum = 0\n",
    "    max_sum = float('-inf')\n",
    "    min_sum = float('inf')\n",
    "    curr_max = 0\n",
    "    curr_min = 0\n",
    "\n",
    "    for num in nums:\n",
    "        total_sum += num\n",
    "        curr_max = max(curr_max + num, num)\n",
    "        curr_min = min(curr_min + num, num)\n",
    "        max_sum = max(max_sum, curr_max)\n",
    "        min_sum = min(min_sum, curr_min)\n",
    "\n",
    "    if max_sum < 0:\n",
    "        return max_sum\n",
    "    return max(max_sum, total_sum - min_sum)\n"
   ]
  },
  {
   "cell_type": "code",
   "execution_count": 100,
   "id": "ed72146a",
   "metadata": {},
   "outputs": [
    {
     "name": "stdout",
     "output_type": "stream",
     "text": [
      "3\n",
      "10\n",
      "-2\n"
     ]
    }
   ],
   "source": [
    "nums1 = [1, -2, 3, -2]\n",
    "print(max_subarray_sum_circular(nums1))\n",
    "\n",
    "nums2 = [5, -3, 5]\n",
    "print(max_subarray_sum_circular(nums2)) \n",
    "\n",
    "nums3 = [-3, -2, -3]\n",
    "print(max_subarray_sum_circular(nums3)) "
   ]
  },
  {
   "cell_type": "markdown",
   "id": "fd8157c2",
   "metadata": {},
   "source": [
    "## Question 3\n",
    "The school cafeteria offers circular and square sandwiches at lunch break, referred to by numbers `0` and `1` respectively. All students stand in a queue. Each student either prefers square or circular sandwiches.\n",
    "\n",
    "The number of sandwiches in the cafeteria is equal to the number of students. The sandwiches are placed in a **stack**. At each step:\n",
    "\n",
    "- If the student at the front of the queue **prefers** the sandwich on the top of the stack, they will **take it** and leave the queue.\n",
    "- Otherwise, they will **leave it** and go to the queue's end.\n",
    "\n",
    "This continues until none of the queue students want to take the top sandwich and are thus unable to eat.\n",
    "\n",
    "You are given two integer arrays `students` and `sandwiches` where `sandwiches[i]` is the type of the `ith` sandwich in the stack (`i = 0` is the top of the stack) and `students[j]` is the preference of the `jth` student in the initial queue (`j = 0` is the front of the queue). Return *the number of students that are unable to eat.*\n",
    "\n",
    "Examples\n",
    "\n",
    "    Input: students = [1,1,0,0], sandwiches = [0,1,0,1]\n",
    "    Output: 0\n",
    "    Explanation:\n",
    "    - Front student leaves the top sandwich and returns to the end of the line making students = [1,0,0,1].\n",
    "    - Front student leaves the top sandwich and returns to the end of the line making students = [0,0,1,1].\n",
    "    - Front student takes the top sandwich and leaves the line making students = [0,1,1] and sandwiches = [1,0,1].\n",
    "    - Front student leaves the top sandwich and returns to the end of the line making students = [1,1,0].\n",
    "    - Front student takes the top sandwich and leaves the line making students = [1,0] and sandwiches = [0,1].\n",
    "    - Front student leaves the top sandwich and returns to the end of the line making students = [0,1].\n",
    "    - Front student takes the top sandwich and leaves the line making students = [1] and sandwiches = [1].\n",
    "    - Front student takes the top sandwich and leaves the line making students = [] and sandwiches = [].\n",
    "    Hence all students are able to eat.\n",
    "\n",
    "    Input: students = [1,1,1,0,0,1], sandwiches = [1,0,0,0,1,1]\n",
    "    Output: 3"
   ]
  },
  {
   "cell_type": "code",
   "execution_count": 101,
   "id": "361ccb65",
   "metadata": {},
   "outputs": [],
   "source": [
    "from collections import deque\n",
    "\n",
    "def count_students_unable_to_eat(students, sandwiches):\n",
    "    student_queue = deque(students)\n",
    "    sandwich_stack = deque(sandwiches)\n",
    "\n",
    "    while student_queue and sandwich_stack:\n",
    "        if student_queue[0] == sandwich_stack[0]:\n",
    "            student_queue.popleft()\n",
    "            sandwich_stack.popleft()\n",
    "        else:\n",
    "            student_queue.append(student_queue.popleft())\n",
    "\n",
    "    return len(student_queue)"
   ]
  },
  {
   "cell_type": "code",
   "execution_count": 102,
   "id": "44b287b7",
   "metadata": {},
   "outputs": [
    {
     "name": "stdout",
     "output_type": "stream",
     "text": [
      "0\n"
     ]
    }
   ],
   "source": [
    "students1 = [1, 1, 0, 0]\n",
    "sandwiches1 = [0, 1, 0, 1]\n",
    "print(count_students_unable_to_eat(students1, sandwiches1))  \n"
   ]
  },
  {
   "cell_type": "markdown",
   "id": "88079e43",
   "metadata": {},
   "source": [
    "## Question 4\n",
    "\n",
    "You have a `RecentCounter` class which counts the number of recent requests within a certain time frame.\n",
    "\n",
    "Implement the `RecentCounter` class:\n",
    "\n",
    "- `RecentCounter()` Initializes the counter with zero recent requests.\n",
    "- `int ping(int t)` Adds a new request at time `t`, where `t` represents some time in milliseconds, and returns the number of requests that has happened in the past `3000` milliseconds (including the new request). Specifically, return the number of requests that have happened in the inclusive range `[t - 3000, t]`.\n",
    "\n",
    "It is **guaranteed** that every call to `ping` uses a strictly larger value of `t` than the previous call.\n",
    "\n",
    "Examples\n",
    "\n",
    "Input\n",
    "[\"RecentCounter\", \"ping\", \"ping\", \"ping\", \"ping\"]\n",
    "[[], [1], [100], [3001], [3002]]\n",
    "Output\n",
    "[null, 1, 2, 3, 3]\n",
    "\n",
    "Explanation\n",
    "RecentCounter recentCounter = new RecentCounter();\n",
    "recentCounter.ping(1);     // requests = [1], range is [-2999,1], return 1\n",
    "recentCounter.ping(100);   // requests = [1,100], range is [-2900,100], return 2\n",
    "recentCounter.ping(3001);  // requests = [1,100,3001], range is [1,3001], return 3\n",
    "recentCounter.ping(3002);  // requests = [1,100,3001,3002], range is [2,3002], return 3\n"
   ]
  },
  {
   "cell_type": "code",
   "execution_count": 103,
   "id": "ca030476",
   "metadata": {},
   "outputs": [],
   "source": [
    "from collections import deque\n",
    "\n",
    "class RecentCounter:\n",
    "    def __init__(self):\n",
    "        self.requests = deque()\n",
    "\n",
    "    def ping(self, t):\n",
    "        self.requests.append(t)\n",
    "        while self.requests[0] < t - 3000:\n",
    "            self.requests.popleft()\n",
    "        return len(self.requests)"
   ]
  },
  {
   "cell_type": "code",
   "execution_count": 104,
   "id": "ebf60045",
   "metadata": {},
   "outputs": [
    {
     "name": "stdout",
     "output_type": "stream",
     "text": [
      "1\n",
      "2\n",
      "3\n",
      "3\n"
     ]
    }
   ],
   "source": [
    "recent_counter = RecentCounter()\n",
    "print(recent_counter.ping(1))    \n",
    "print(recent_counter.ping(100))  \n",
    "print(recent_counter.ping(3001)) \n",
    "print(recent_counter.ping(3002)) "
   ]
  },
  {
   "cell_type": "markdown",
   "id": "84efc255",
   "metadata": {},
   "source": [
    "## Question 5\n",
    "\n",
    "There are `n` friends that are playing a game. The friends are sitting in a circle and are numbered from `1` to `n` in **clockwise order**. More formally, moving clockwise from the `ith` friend brings you to the `(i+1)th` friend for `1 <= i < n`, and moving clockwise from the `nth` friend brings you to the `1st` friend.\n",
    "\n",
    "The rules of the game are as follows:\n",
    "\n",
    "1. **Start** at the `1st` friend.\n",
    "2. Count the next `k` friends in the clockwise direction **including** the friend you started at. The counting wraps around the circle and may count some friends more than once.\n",
    "3. The last friend you counted leaves the circle and loses the game.\n",
    "4. If there is still more than one friend in the circle, go back to step `2` **starting** from the friend **immediately clockwise** of the friend who just lost and repeat.\n",
    "5. Else, the last friend in the circle wins the game.\n",
    "\n",
    "Given the number of friends, `n`, and an integer `k`, return *the winner of the game*.\n",
    "\n",
    "Examples\n",
    "\n",
    "    Input: n = 5, k = 2\n",
    "    Output: 3\n",
    "    Explanation: Here are the steps of the game:\n",
    "    1) Start at friend 1.\n",
    "    2) Count 2 friends clockwise, which are friends 1 and 2.\n",
    "    3) Friend 2 leaves the circle. Next start is friend 3.\n",
    "    4) Count 2 friends clockwise, which are friends 3 and 4.\n",
    "    5) Friend 4 leaves the circle. Next start is friend 5.\n",
    "    6) Count 2 friends clockwise, which are friends 5 and 1.\n",
    "    7) Friend 1 leaves the circle. Next start is friend 3.\n",
    "    8) Count 2 friends clockwise, which are friends 3 and 5.\n",
    "    9) Friend 5 leaves the circle. Only friend 3 is left, so they are the winner."
   ]
  },
  {
   "cell_type": "code",
   "execution_count": 105,
   "id": "294c8f48",
   "metadata": {},
   "outputs": [],
   "source": [
    "def find_winner(n, k):\n",
    "    position = 0\n",
    "    for i in range(2, n+1):\n",
    "        position = (position + k) % i\n",
    "    return position + 1"
   ]
  },
  {
   "cell_type": "code",
   "execution_count": 106,
   "id": "00561ac3",
   "metadata": {},
   "outputs": [
    {
     "name": "stdout",
     "output_type": "stream",
     "text": [
      "3\n",
      "1\n"
     ]
    }
   ],
   "source": [
    "n1, k1 = 5, 2\n",
    "print(find_winner(n1, k1))  \n",
    "\n",
    "n2, k2 = 6, 3\n",
    "print(find_winner(n2, k2))  "
   ]
  },
  {
   "cell_type": "markdown",
   "id": "2d3d3ff4",
   "metadata": {},
   "source": [
    "## Question 6\n",
    "\n",
    "You are given an integer array `deck`. There is a deck of cards where every card has a unique integer. The integer on the `ith` card is `deck[i]`.\n",
    "\n",
    "You can order the deck in any order you want. Initially, all the cards start face down (unrevealed) in one deck.\n",
    "\n",
    "You will do the following steps repeatedly until all cards are revealed:\n",
    "\n",
    "1. Take the top card of the deck, reveal it, and take it out of the deck.\n",
    "2. If there are still cards in the deck then put the next top card of the deck at the bottom of the deck.\n",
    "3. If there are still unrevealed cards, go back to step 1. Otherwise, stop.\n",
    "\n",
    "Return *an ordering of the deck that would reveal the cards in increasing order*.\n",
    "\n",
    "**Note** that the first entry in the answer is considered to be the top of the deck.\n",
    "\n",
    "Examples\n",
    "\n",
    "    Input: deck = [17,13,11,2,3,5,7]\n",
    "    Output: [2,13,3,11,5,17,7]\n",
    "    Explanation:\n",
    "    We get the deck in the order [17,13,11,2,3,5,7] (this order does not matter), and reorder it.\n",
    "    After reordering, the deck starts as [2,13,3,11,5,17,7], where 2 is the top of the deck.\n",
    "    We reveal 2, and move 13 to the bottom.  The deck is now [3,11,5,17,7,13].\n",
    "    We reveal 3, and move 11 to the bottom.  The deck is now [5,17,7,13,11].\n",
    "    We reveal 5, and move 17 to the bottom.  The deck is now [7,13,11,17].\n",
    "    We reveal 7, and move 13 to the bottom.  The deck is now [11,17,13].\n",
    "    We reveal 11, and move 17 to the bottom.  The deck is now [13,17].\n",
    "    We reveal 13, and move 17 to the bottom.  The deck is now [17].\n",
    "    We reveal 17.\n",
    "    Since all the cards revealed are in increasing order, the answer is correct.\n"
   ]
  },
  {
   "cell_type": "code",
   "execution_count": 107,
   "id": "f88b01f4",
   "metadata": {},
   "outputs": [],
   "source": [
    "import collections\n",
    "\n",
    "def deck_revealed_increasing(deck):\n",
    "    n = len(deck)\n",
    "    index = collections.deque(range(n))\n",
    "    result = [0] * n\n",
    "    deck.sort()\n",
    "\n",
    "    for card in deck:\n",
    "        result[index.popleft()] = card\n",
    "        if index:\n",
    "            index.append(index.popleft())\n",
    "    return result"
   ]
  },
  {
   "cell_type": "code",
   "execution_count": 108,
   "id": "9f45fe25",
   "metadata": {},
   "outputs": [
    {
     "name": "stdout",
     "output_type": "stream",
     "text": [
      "[2, 13, 3, 11, 5, 17, 7]\n",
      "[1, 6, 2, 10, 3, 7, 4, 9, 5, 8]\n"
     ]
    }
   ],
   "source": [
    "deck1 = [17, 13, 11, 2, 3, 5, 7]\n",
    "print(deck_revealed_increasing(deck1))  \n",
    "\n",
    "deck2 = [1, 2, 3, 4, 5, 6, 7, 8, 9, 10]\n",
    "print(deck_revealed_increasing(deck2))  "
   ]
  },
  {
   "cell_type": "markdown",
   "id": "4437bc2f",
   "metadata": {},
   "source": [
    "## Question 8\n",
    "\n",
    "For a stream of integers, implement a data structure that checks if the last `k` integers parsed in the stream are **equal** to `value`.\n",
    "\n",
    "Implement the **DataStream** class:\n",
    "\n",
    "- `DataStream(int value, int k)` Initializes the object with an empty integer stream and the two integers `value` and `k`.\n",
    "- `boolean consec(int num)` Adds `num` to the stream of integers. Returns `true` if the last `k` integers are equal to `value`, and `false` otherwise. If there are less than `k` integers, the condition does not hold true, so returns `false`.\n",
    "\n",
    "Examples\n",
    "    Input\n",
    "    [\"DataStream\", \"consec\", \"consec\", \"consec\", \"consec\"]\n",
    "    [[4, 3], [4], [4], [4], [3]]\n",
    "    Output\n",
    "    [null, false, false, true, false]\n",
    "\n",
    "    Explanation\n",
    "    DataStream dataStream = new DataStream(4, 3); //value = 4, k = 3\n",
    "    dataStream.consec(4); // Only 1 integer is parsed, so returns False.\n",
    "    dataStream.consec(4); // Only 2 integers are parsed.\n",
    "                          // Since 2 is less than k, returns False.\n",
    "    dataStream.consec(4); // The 3 integers parsed are all equal to value, so returns True.\n",
    "    dataStream.consec(3); // The last k integers parsed in the stream are [4,4,3].\n",
    "                          // Since 3 is not equal to value, it returns False."
   ]
  },
  {
   "cell_type": "code",
   "execution_count": 109,
   "id": "b6e42d1b",
   "metadata": {},
   "outputs": [],
   "source": [
    "class DataStream:\n",
    "    def __init__(self, value, k):\n",
    "        self.stream = []\n",
    "        self.value = value\n",
    "        self.k = k\n",
    "\n",
    "    def consec(self, num):\n",
    "        self.stream.append(num)\n",
    "        if len(self.stream) < self.k:\n",
    "            return False\n",
    "        return all(self.stream[-self.k:] == [self.value] * self.k)"
   ]
  },
  {
   "cell_type": "code",
   "execution_count": 110,
   "id": "59568c81",
   "metadata": {},
   "outputs": [
    {
     "name": "stdout",
     "output_type": "stream",
     "text": [
      "False\n",
      "False\n"
     ]
    }
   ],
   "source": [
    "data_stream = DataStream(4, 3)\n",
    "print(data_stream.consec(4))  \n",
    "print(data_stream.consec(4))  "
   ]
  },
  {
   "cell_type": "code",
   "execution_count": null,
   "id": "e8dc2671",
   "metadata": {},
   "outputs": [],
   "source": []
  }
 ],
 "metadata": {
  "kernelspec": {
   "display_name": "Python 3 (ipykernel)",
   "language": "python",
   "name": "python3"
  },
  "language_info": {
   "codemirror_mode": {
    "name": "ipython",
    "version": 3
   },
   "file_extension": ".py",
   "mimetype": "text/x-python",
   "name": "python",
   "nbconvert_exporter": "python",
   "pygments_lexer": "ipython3",
   "version": "3.9.7"
  }
 },
 "nbformat": 4,
 "nbformat_minor": 5
}
