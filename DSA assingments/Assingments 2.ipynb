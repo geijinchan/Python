{
 "cells": [
  {
   "cell_type": "markdown",
   "id": "772e580f",
   "metadata": {},
   "source": [
    "## Question 1\n",
    "Given an integer array nums of 2n integers, group these integers into n pairs (a1, b1), (a2, b2),..., (an, bn) such that the sum of min(ai, bi) for all i is maximized. Return the maximized sum.\n",
    "\n",
    "**Example 1:**\n",
    "Input: nums = [1,4,3,2]\n",
    "Output: 4\n",
    "\n",
    "**Explanation:** All possible pairings (ignoring the ordering of elements) are:\n",
    "\n",
    "1. (1, 4), (2, 3) -> min(1, 4) + min(2, 3) = 1 + 2 = 3\n",
    "2. (1, 3), (2, 4) -> min(1, 3) + min(2, 4) = 1 + 2 = 3\n",
    "3. (1, 2), (3, 4) -> min(1, 2) + min(3, 4) = 1 + 3 = 4\n",
    "So the maximum possible sum is 4\n",
    "</aside>"
   ]
  },
  {
   "cell_type": "code",
   "execution_count": 121,
   "id": "61680cc9",
   "metadata": {},
   "outputs": [],
   "source": [
    "def array_pair_sum(nums):\n",
    "    nums.sort() \n",
    "    pair_sum = 0\n",
    "    for i in range(0, len(nums), 2):\n",
    "        pair_sum += nums[i]\n",
    "    return pair_sum"
   ]
  },
  {
   "cell_type": "code",
   "execution_count": 122,
   "id": "60b82cb0",
   "metadata": {},
   "outputs": [
    {
     "name": "stdout",
     "output_type": "stream",
     "text": [
      "4\n"
     ]
    }
   ],
   "source": [
    "nums = [1, 4, 3, 2]\n",
    "max_sum = array_pair_sum(nums)\n",
    "print(max_sum)"
   ]
  },
  {
   "cell_type": "markdown",
   "id": "84b9b4c9",
   "metadata": {},
   "source": [
    "## Question 2\n",
    "Alice has n candies, where the ith candy is of type candyType[i]. Alice noticed that she started to gain weight, so she visited a doctor. \n",
    "\n",
    "The doctor advised Alice to only eat n / 2 of the candies she has (n is always even). Alice likes her candies very much, and she wants to eat the maximum number of different types of candies while still following the doctor's advice. \n",
    "\n",
    "Given the integer array candyType of length n, return the maximum number of different types of candies she can eat if she only eats n / 2 of them.\n",
    "\n",
    "Example 1:\n",
    "Input: candyType = [1,1,2,2,3,3]\n",
    "Output: 3\n",
    "\n",
    "Explanation: Alice can only eat 6 / 2 = 3 candies. Since there are only 3 types, she can eat one of each type."
   ]
  },
  {
   "cell_type": "code",
   "execution_count": 123,
   "id": "cd33a95f",
   "metadata": {},
   "outputs": [],
   "source": [
    "def max_candies(candyType):\n",
    "    unique_types = len(set(candyType))  \n",
    "    max_types = len(candyType) // 2  \n",
    "    return min(unique_types, max_types)"
   ]
  },
  {
   "cell_type": "code",
   "execution_count": 124,
   "id": "9f8cf737",
   "metadata": {},
   "outputs": [
    {
     "name": "stdout",
     "output_type": "stream",
     "text": [
      "3\n"
     ]
    }
   ],
   "source": [
    "candyType = [1, 1, 2, 2, 3, 3]\n",
    "max_count = max_candies(candyType)\n",
    "print(max_count)"
   ]
  },
  {
   "cell_type": "markdown",
   "id": "dcb3cc4a",
   "metadata": {},
   "source": [
    "## Question 3\n",
    "We define a harmonious array as an array where the difference between its maximum value\n",
    "and its minimum value is exactly 1.\n",
    "\n",
    "Given an integer array nums, return the length of its longest harmonious subsequence\n",
    "among all its possible subsequences.\n",
    "\n",
    "A subsequence of an array is a sequence that can be derived from the array by deleting some or no elements without changing the order of the remaining elements.\n",
    "\n",
    "Example 1:\n",
    "Input: nums = [1,3,2,2,5,2,3,7]\n",
    "Output: 5\n",
    "\n",
    "Explanation: The longest harmonious subsequence is [3,2,2,2,3]."
   ]
  },
  {
   "cell_type": "code",
   "execution_count": 125,
   "id": "185d15b5",
   "metadata": {},
   "outputs": [],
   "source": [
    "def longest_harmonious_subsequence(nums):\n",
    "    num_count = {}\n",
    "    max_length = 0\n",
    "    for num in nums:\n",
    "        num_count[num] = num_count.get(num, 0) + 1\n",
    "    for num in num_count:\n",
    "        if num + 1 in num_count:\n",
    "            length = num_count[num] + num_count[num + 1]\n",
    "            max_length = max(max_length, length)\n",
    "    return max_length"
   ]
  },
  {
   "cell_type": "code",
   "execution_count": 126,
   "id": "a15489af",
   "metadata": {},
   "outputs": [
    {
     "name": "stdout",
     "output_type": "stream",
     "text": [
      "5\n"
     ]
    }
   ],
   "source": [
    "nums = [1, 3, 2, 2, 5, 2, 3, 7]\n",
    "max_length = longest_harmonious_subsequence(nums)\n",
    "print(max_length)"
   ]
  },
  {
   "cell_type": "markdown",
   "id": "b5336da8",
   "metadata": {},
   "source": [
    "## Question 4\n",
    "You have a long flowerbed in which some of the plots are planted, and some are not.\n",
    "However, flowers cannot be planted in adjacent plots.\n",
    "Given an integer array flowerbed containing 0's and 1's, where 0 means empty and 1 means not empty, and an integer n, return true if n new flowers can be planted in the flowerbed without violating the no-adjacent-flowers rule and false otherwise.\n",
    "\n",
    "Example 1:\n",
    "Input: flowerbed = [1,0,0,0,1], n = 1\n",
    "Output: true"
   ]
  },
  {
   "cell_type": "code",
   "execution_count": 127,
   "id": "a1350c72",
   "metadata": {},
   "outputs": [],
   "source": [
    "def can_place_flowers(flowerbed, n):\n",
    "    length = len(flowerbed)\n",
    "    count = 0\n",
    "    i = 0\n",
    "    while i < length:\n",
    "        if flowerbed[i] == 0 and (i == 0 or flowerbed[i-1] == 0) and (i == length-1 or flowerbed[i+1] == 0):\n",
    "            flowerbed[i] = 1\n",
    "            count += 1\n",
    "        i += 1\n",
    "        if count >= n:\n",
    "            return True\n",
    "    return False"
   ]
  },
  {
   "cell_type": "code",
   "execution_count": 128,
   "id": "39fa6021",
   "metadata": {},
   "outputs": [
    {
     "name": "stdout",
     "output_type": "stream",
     "text": [
      "True\n"
     ]
    }
   ],
   "source": [
    "flowerbed = [1, 0, 0, 0, 1]\n",
    "n = 1\n",
    "result = can_place_flowers(flowerbed, n)\n",
    "print(result)"
   ]
  },
  {
   "cell_type": "markdown",
   "id": "39c880c3",
   "metadata": {},
   "source": [
    "## Question 5\n",
    "Given an integer array nums, find three numbers whose product is maximum and return the maximum product.\n",
    "\n",
    "Example 1:\n",
    "Input: nums = [1,2,3]\n",
    "Output: 6"
   ]
  },
  {
   "cell_type": "code",
   "execution_count": 129,
   "id": "6f55b321",
   "metadata": {},
   "outputs": [],
   "source": [
    "def maximum_product(nums):\n",
    "    nums.sort()\n",
    "    n = len(nums)\n",
    "\n",
    "    product1 = nums[n-1] * nums[n-2] * nums[n-3]\n",
    "    product2 = nums[0] * nums[1] * nums[n-1]\n",
    "\n",
    "    return max(product1, product2)"
   ]
  },
  {
   "cell_type": "code",
   "execution_count": 130,
   "id": "3ded6ba3",
   "metadata": {},
   "outputs": [
    {
     "name": "stdout",
     "output_type": "stream",
     "text": [
      "6\n"
     ]
    }
   ],
   "source": [
    "nums = [1, 2, 3]\n",
    "result = maximum_product(nums)\n",
    "print(result)"
   ]
  },
  {
   "cell_type": "markdown",
   "id": "86667cf9",
   "metadata": {},
   "source": [
    "## Question 6\n",
    "Given an array of integers nums which is sorted in ascending order, and an integer target,\n",
    "write a function to search target in nums. If target exists, then return its index. Otherwise,\n",
    "return -1.\n",
    "\n",
    "You must write an algorithm with O(log n) runtime complexity.\n",
    "\n",
    "Input: nums = [-1,0,3,5,9,12], target = 9\n",
    "Output: 4\n",
    "\n",
    "Explanation: 9 exists in nums and its index is 4"
   ]
  },
  {
   "cell_type": "code",
   "execution_count": 131,
   "id": "f02110cc",
   "metadata": {},
   "outputs": [],
   "source": [
    "def search(nums, target):\n",
    "    left = 0\n",
    "    right = len(nums) - 1\n",
    "    \n",
    "    while left <= right:\n",
    "        mid = left + (right - left) // 2\n",
    "        \n",
    "        if nums[mid] == target:\n",
    "            return mid\n",
    "        elif nums[mid] < target:\n",
    "            left = mid + 1\n",
    "        else:\n",
    "            right = mid - 1\n",
    "    return -1"
   ]
  },
  {
   "cell_type": "code",
   "execution_count": 132,
   "id": "ba9270b5",
   "metadata": {},
   "outputs": [
    {
     "name": "stdout",
     "output_type": "stream",
     "text": [
      "4\n"
     ]
    }
   ],
   "source": [
    "nums = [-1, 0, 3, 5, 9, 12]\n",
    "target = 9\n",
    "result = search(nums, target)\n",
    "print(result)"
   ]
  },
  {
   "cell_type": "markdown",
   "id": "0d809b67",
   "metadata": {},
   "source": [
    "## Question 7\n",
    "An array is monotonic if it is either monotone increasing or monotone decreasing.\n",
    "\n",
    "An array nums is monotone increasing if for all i <= j, nums[i] <= nums[j]. An array nums is\n",
    "monotone decreasing if for all i <= j, nums[i] >= nums[j].\n",
    "\n",
    "Given an integer array nums, return true if the given array is monotonic, or false otherwise.\n",
    "\n",
    "Example 1:\n",
    "Input: nums = [1,2,2,3]\n",
    "Output: true"
   ]
  },
  {
   "cell_type": "code",
   "execution_count": 133,
   "id": "fc254efa",
   "metadata": {},
   "outputs": [],
   "source": [
    "def isMonotonic(nums):\n",
    "    increasing = decreasing = True\n",
    "\n",
    "    for i in range(1, len(nums)):\n",
    "        if nums[i] < nums[i - 1]:\n",
    "            increasing = False\n",
    "        if nums[i] > nums[i - 1]:\n",
    "            decreasing = False\n",
    "    return increasing or decreasing"
   ]
  },
  {
   "cell_type": "code",
   "execution_count": 134,
   "id": "34b83f20",
   "metadata": {},
   "outputs": [
    {
     "name": "stdout",
     "output_type": "stream",
     "text": [
      "True\n"
     ]
    }
   ],
   "source": [
    "nums = [1, 2, 2, 3]\n",
    "result = isMonotonic(nums)\n",
    "print(result)"
   ]
  },
  {
   "cell_type": "markdown",
   "id": "c6d30284",
   "metadata": {},
   "source": [
    "## Question 8\n",
    "You are given an integer array nums and an integer k.\n",
    "\n",
    "In one operation, you can choose any index i where 0 <= i < nums.length and change nums[i] to nums[i] + x where x is an integer from the range [-k, k]. You can apply this operation at most once for each index i.\n",
    "\n",
    "The score of nums is the difference between the maximum and minimum elements in nums.\n",
    "\n",
    "Return the minimum score of nums after applying the mentioned operation at most once for each index in it.\n",
    "\n",
    "Example 1:\n",
    "Input: nums = [1], k = 0\n",
    "Output: 0\n",
    "\n",
    "Explanation: The score is max(nums) - min(nums) = 1 - 1 = 0."
   ]
  },
  {
   "cell_type": "code",
   "execution_count": 135,
   "id": "77439344",
   "metadata": {},
   "outputs": [],
   "source": [
    "def minScore(nums, k):\n",
    "    nums.sort()\n",
    "    nums[0] += k\n",
    "    nums[-1] -= k\n",
    "    max_val = max(nums)\n",
    "    min_val = min(nums)\n",
    "    return max_val - min_val"
   ]
  },
  {
   "cell_type": "code",
   "execution_count": 136,
   "id": "a7604531",
   "metadata": {},
   "outputs": [
    {
     "name": "stdout",
     "output_type": "stream",
     "text": [
      "0\n"
     ]
    }
   ],
   "source": [
    "nums = [1]\n",
    "k = 0\n",
    "result = minScore(nums, k)\n",
    "print(result)"
   ]
  },
  {
   "cell_type": "code",
   "execution_count": null,
   "id": "295670cd",
   "metadata": {},
   "outputs": [],
   "source": []
  }
 ],
 "metadata": {
  "kernelspec": {
   "display_name": "TensorFlow-GPU",
   "language": "python",
   "name": "tensorflow"
  },
  "language_info": {
   "codemirror_mode": {
    "name": "ipython",
    "version": 3
   },
   "file_extension": ".py",
   "mimetype": "text/x-python",
   "name": "python",
   "nbconvert_exporter": "python",
   "pygments_lexer": "ipython3",
   "version": "3.9.7"
  }
 },
 "nbformat": 4,
 "nbformat_minor": 5
}
